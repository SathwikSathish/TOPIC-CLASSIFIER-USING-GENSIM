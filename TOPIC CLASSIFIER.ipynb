{
 "cells": [
  {
   "cell_type": "markdown",
   "metadata": {},
   "source": [
    "# Topic Modeling with Gensim\n",
    "\n",
    "\n",
    "\n",
    "\n",
    "Topic Modeling is an unsupervised technique to extract the hidden topics from large volumes of text. Latent Dirichlet Allocation(LDA) is a popular algorithm for topic modeling with excellent implementations in the Python’s Gensim package. The challenge, however, is how to extract good quality of topics that are clear, segregated and meaningful. This depends heavily on the quality of text preprocessing and the strategy of finding the optimal number of topics. This tutorial attempts to tackle both of these problems."
   ]
  },
  {
   "cell_type": "markdown",
   "metadata": {},
   "source": [
    "#### IMPORTING ALL THE NECESSARY LIBRARIES"
   ]
  },
  {
   "cell_type": "code",
   "execution_count": 35,
   "metadata": {},
   "outputs": [
    {
     "name": "stderr",
     "output_type": "stream",
     "text": [
      "[nltk_data] Downloading package stopwords to\n",
      "[nltk_data]     C:\\Users\\csdin\\AppData\\Roaming\\nltk_data...\n",
      "[nltk_data]   Package stopwords is already up-to-date!\n"
     ]
    },
    {
     "name": "stdout",
     "output_type": "stream",
     "text": [
      "Requirement already satisfied: pyLDAvis in g:\\anaconda\\envs\\ml\\lib\\site-packages (3.3.1)\n",
      "Requirement already satisfied: numpy>=1.20.0 in g:\\anaconda\\envs\\ml\\lib\\site-packages (from pyLDAvis) (1.22.1)\n",
      "Requirement already satisfied: pandas>=1.2.0 in g:\\anaconda\\envs\\ml\\lib\\site-packages (from pyLDAvis) (1.3.5)\n",
      "Requirement already satisfied: sklearn in g:\\anaconda\\envs\\ml\\lib\\site-packages (from pyLDAvis) (0.0.post1)\n",
      "Requirement already satisfied: joblib in g:\\anaconda\\envs\\ml\\lib\\site-packages (from pyLDAvis) (1.1.0)\n",
      "Requirement already satisfied: scipy in g:\\anaconda\\envs\\ml\\lib\\site-packages (from pyLDAvis) (1.7.3)\n",
      "Requirement already satisfied: setuptools in g:\\anaconda\\envs\\ml\\lib\\site-packages (from pyLDAvis) (58.0.4)\n",
      "Requirement already satisfied: future in g:\\anaconda\\envs\\ml\\lib\\site-packages (from pyLDAvis) (0.18.2)\n",
      "Requirement already satisfied: scikit-learn in g:\\anaconda\\envs\\ml\\lib\\site-packages (from pyLDAvis) (1.0.2)\n",
      "Requirement already satisfied: gensim in g:\\anaconda\\envs\\ml\\lib\\site-packages (from pyLDAvis) (4.2.0)\n",
      "Requirement already satisfied: funcy in g:\\anaconda\\envs\\ml\\lib\\site-packages (from pyLDAvis) (1.17)\n",
      "Requirement already satisfied: numexpr in g:\\anaconda\\envs\\ml\\lib\\site-packages (from pyLDAvis) (2.8.1)\n",
      "Requirement already satisfied: jinja2 in g:\\anaconda\\envs\\ml\\lib\\site-packages (from pyLDAvis) (3.0.3)\n",
      "Requirement already satisfied: pytz>=2017.3 in g:\\anaconda\\envs\\ml\\lib\\site-packages (from pandas>=1.2.0->pyLDAvis) (2021.3)\n",
      "Requirement already satisfied: python-dateutil>=2.7.3 in g:\\anaconda\\envs\\ml\\lib\\site-packages (from pandas>=1.2.0->pyLDAvis) (2.8.2)\n",
      "Requirement already satisfied: six>=1.5 in g:\\anaconda\\envs\\ml\\lib\\site-packages (from python-dateutil>=2.7.3->pandas>=1.2.0->pyLDAvis) (1.16.0)\n",
      "Requirement already satisfied: Cython==0.29.28 in g:\\anaconda\\envs\\ml\\lib\\site-packages (from gensim->pyLDAvis) (0.29.28)\n",
      "Requirement already satisfied: smart-open>=1.8.1 in g:\\anaconda\\envs\\ml\\lib\\site-packages (from gensim->pyLDAvis) (5.2.1)\n",
      "Requirement already satisfied: MarkupSafe>=2.0 in g:\\anaconda\\envs\\ml\\lib\\site-packages (from jinja2->pyLDAvis) (2.0.1)\n",
      "Requirement already satisfied: packaging in g:\\anaconda\\envs\\ml\\lib\\site-packages (from numexpr->pyLDAvis) (21.3)\n",
      "Requirement already satisfied: pyparsing!=3.0.5,>=2.0.2 in g:\\anaconda\\envs\\ml\\lib\\site-packages (from packaging->numexpr->pyLDAvis) (3.0.6)\n",
      "Requirement already satisfied: threadpoolctl>=2.0.0 in g:\\anaconda\\envs\\ml\\lib\\site-packages (from scikit-learn->pyLDAvis) (2.2.0)\n"
     ]
    }
   ],
   "source": [
    "import nltk\n",
    "nltk.download('stopwords')\n",
    "import re\n",
    "import numpy as np\n",
    "import pandas as pd\n",
    "from pprint import pprint\n",
    "\n",
    "\n",
    "# Gensim is a free open-source Python library for representing documents as semantic vectors, as efficiently as possible.\n",
    "import gensim\n",
    "import gensim.corpora as corpora\n",
    "from gensim.utils import simple_preprocess\n",
    "from gensim.models import CoherenceModel\n",
    "\n",
    "\n",
    "# spacy for lemmatization\n",
    "import spacy\n",
    "\n",
    "# Plotting tools\n",
    "!pip install pyLDAvis\n",
    "import pyLDAvis\n",
    "import pyLDAvis.gensim_models\n",
    "import matplotlib.pyplot as plt\n",
    "%matplotlib inline\n",
    "\n",
    "\n",
    "# Enable logging to keep a track of all the events for gensim - optional\n",
    "import logging\n",
    "logging.basicConfig(format='%(asctime)s : %(levelname)s : %(message)s', level=logging.ERROR)\n",
    "\n",
    "\n",
    "import warnings\n",
    "warnings.filterwarnings(\"ignore\",category=DeprecationWarning)\n",
    "\n",
    "\n",
    "from nltk.corpus import stopwords\n",
    "stop_words=stopwords.words('english')\n",
    "stop_words.extend(['from','subject','re','edu','use'])"
   ]
  },
  {
   "cell_type": "markdown",
   "metadata": {},
   "source": [
    "#### IMPORTING THE DATASET FROM 20-NEWSGROUP DATASET\n"
   ]
  },
  {
   "cell_type": "code",
   "execution_count": 8,
   "metadata": {},
   "outputs": [
    {
     "name": "stdout",
     "output_type": "stream",
     "text": [
      "['rec.autos' 'comp.sys.mac.hardware' 'comp.graphics' 'sci.space'\n",
      " 'talk.politics.guns' 'sci.med' 'comp.sys.ibm.pc.hardware'\n",
      " 'comp.os.ms-windows.misc' 'rec.motorcycles' 'talk.religion.misc'\n",
      " 'misc.forsale' 'alt.atheism' 'sci.electronics' 'comp.windows.x'\n",
      " 'rec.sport.hockey' 'rec.sport.baseball' 'soc.religion.christian'\n",
      " 'talk.politics.mideast' 'talk.politics.misc' 'sci.crypt']\n"
     ]
    }
   ],
   "source": [
    "df=pd.read_json('https://raw.githubusercontent.com/selva86/datasets/master/newsgroups.json')\n",
    "print(df.target_names.unique())\n"
   ]
  },
  {
   "cell_type": "code",
   "execution_count": 14,
   "metadata": {},
   "outputs": [
    {
     "data": {
      "text/html": [
       "<div>\n",
       "<style scoped>\n",
       "    .dataframe tbody tr th:only-of-type {\n",
       "        vertical-align: middle;\n",
       "    }\n",
       "\n",
       "    .dataframe tbody tr th {\n",
       "        vertical-align: top;\n",
       "    }\n",
       "\n",
       "    .dataframe thead th {\n",
       "        text-align: right;\n",
       "    }\n",
       "</style>\n",
       "<table border=\"1\" class=\"dataframe\">\n",
       "  <thead>\n",
       "    <tr style=\"text-align: right;\">\n",
       "      <th></th>\n",
       "      <th>content</th>\n",
       "      <th>target</th>\n",
       "      <th>target_names</th>\n",
       "    </tr>\n",
       "  </thead>\n",
       "  <tbody>\n",
       "    <tr>\n",
       "      <th>0</th>\n",
       "      <td>From: lerxst@wam.umd.edu (where's my thing)\\nS...</td>\n",
       "      <td>7</td>\n",
       "      <td>rec.autos</td>\n",
       "    </tr>\n",
       "    <tr>\n",
       "      <th>1</th>\n",
       "      <td>From: guykuo@carson.u.washington.edu (Guy Kuo)...</td>\n",
       "      <td>4</td>\n",
       "      <td>comp.sys.mac.hardware</td>\n",
       "    </tr>\n",
       "    <tr>\n",
       "      <th>2</th>\n",
       "      <td>From: twillis@ec.ecn.purdue.edu (Thomas E Will...</td>\n",
       "      <td>4</td>\n",
       "      <td>comp.sys.mac.hardware</td>\n",
       "    </tr>\n",
       "    <tr>\n",
       "      <th>3</th>\n",
       "      <td>From: jgreen@amber (Joe Green)\\nSubject: Re: W...</td>\n",
       "      <td>1</td>\n",
       "      <td>comp.graphics</td>\n",
       "    </tr>\n",
       "    <tr>\n",
       "      <th>4</th>\n",
       "      <td>From: jcm@head-cfa.harvard.edu (Jonathan McDow...</td>\n",
       "      <td>14</td>\n",
       "      <td>sci.space</td>\n",
       "    </tr>\n",
       "  </tbody>\n",
       "</table>\n",
       "</div>"
      ],
      "text/plain": [
       "                                             content  target  \\\n",
       "0  From: lerxst@wam.umd.edu (where's my thing)\\nS...       7   \n",
       "1  From: guykuo@carson.u.washington.edu (Guy Kuo)...       4   \n",
       "2  From: twillis@ec.ecn.purdue.edu (Thomas E Will...       4   \n",
       "3  From: jgreen@amber (Joe Green)\\nSubject: Re: W...       1   \n",
       "4  From: jcm@head-cfa.harvard.edu (Jonathan McDow...      14   \n",
       "\n",
       "            target_names  \n",
       "0              rec.autos  \n",
       "1  comp.sys.mac.hardware  \n",
       "2  comp.sys.mac.hardware  \n",
       "3          comp.graphics  \n",
       "4              sci.space  "
      ]
     },
     "execution_count": 14,
     "metadata": {},
     "output_type": "execute_result"
    }
   ],
   "source": [
    "df.head()"
   ]
  },
  {
   "cell_type": "code",
   "execution_count": 15,
   "metadata": {},
   "outputs": [
    {
     "data": {
      "text/html": [
       "<div>\n",
       "<style scoped>\n",
       "    .dataframe tbody tr th:only-of-type {\n",
       "        vertical-align: middle;\n",
       "    }\n",
       "\n",
       "    .dataframe tbody tr th {\n",
       "        vertical-align: top;\n",
       "    }\n",
       "\n",
       "    .dataframe thead th {\n",
       "        text-align: right;\n",
       "    }\n",
       "</style>\n",
       "<table border=\"1\" class=\"dataframe\">\n",
       "  <thead>\n",
       "    <tr style=\"text-align: right;\">\n",
       "      <th></th>\n",
       "      <th>content</th>\n",
       "      <th>target</th>\n",
       "      <th>target_names</th>\n",
       "    </tr>\n",
       "  </thead>\n",
       "  <tbody>\n",
       "    <tr>\n",
       "      <th>count</th>\n",
       "      <td>11314</td>\n",
       "      <td>11314.000000</td>\n",
       "      <td>11314</td>\n",
       "    </tr>\n",
       "    <tr>\n",
       "      <th>unique</th>\n",
       "      <td>11314</td>\n",
       "      <td>NaN</td>\n",
       "      <td>20</td>\n",
       "    </tr>\n",
       "    <tr>\n",
       "      <th>top</th>\n",
       "      <td>From: lerxst@wam.umd.edu (where's my thing)\\nS...</td>\n",
       "      <td>NaN</td>\n",
       "      <td>rec.sport.hockey</td>\n",
       "    </tr>\n",
       "    <tr>\n",
       "      <th>freq</th>\n",
       "      <td>1</td>\n",
       "      <td>NaN</td>\n",
       "      <td>600</td>\n",
       "    </tr>\n",
       "    <tr>\n",
       "      <th>mean</th>\n",
       "      <td>NaN</td>\n",
       "      <td>9.293000</td>\n",
       "      <td>NaN</td>\n",
       "    </tr>\n",
       "    <tr>\n",
       "      <th>std</th>\n",
       "      <td>NaN</td>\n",
       "      <td>5.562719</td>\n",
       "      <td>NaN</td>\n",
       "    </tr>\n",
       "    <tr>\n",
       "      <th>min</th>\n",
       "      <td>NaN</td>\n",
       "      <td>0.000000</td>\n",
       "      <td>NaN</td>\n",
       "    </tr>\n",
       "    <tr>\n",
       "      <th>25%</th>\n",
       "      <td>NaN</td>\n",
       "      <td>5.000000</td>\n",
       "      <td>NaN</td>\n",
       "    </tr>\n",
       "    <tr>\n",
       "      <th>50%</th>\n",
       "      <td>NaN</td>\n",
       "      <td>9.000000</td>\n",
       "      <td>NaN</td>\n",
       "    </tr>\n",
       "    <tr>\n",
       "      <th>75%</th>\n",
       "      <td>NaN</td>\n",
       "      <td>14.000000</td>\n",
       "      <td>NaN</td>\n",
       "    </tr>\n",
       "    <tr>\n",
       "      <th>max</th>\n",
       "      <td>NaN</td>\n",
       "      <td>19.000000</td>\n",
       "      <td>NaN</td>\n",
       "    </tr>\n",
       "  </tbody>\n",
       "</table>\n",
       "</div>"
      ],
      "text/plain": [
       "                                                  content        target  \\\n",
       "count                                               11314  11314.000000   \n",
       "unique                                              11314           NaN   \n",
       "top     From: lerxst@wam.umd.edu (where's my thing)\\nS...           NaN   \n",
       "freq                                                    1           NaN   \n",
       "mean                                                  NaN      9.293000   \n",
       "std                                                   NaN      5.562719   \n",
       "min                                                   NaN      0.000000   \n",
       "25%                                                   NaN      5.000000   \n",
       "50%                                                   NaN      9.000000   \n",
       "75%                                                   NaN     14.000000   \n",
       "max                                                   NaN     19.000000   \n",
       "\n",
       "            target_names  \n",
       "count              11314  \n",
       "unique                20  \n",
       "top     rec.sport.hockey  \n",
       "freq                 600  \n",
       "mean                 NaN  \n",
       "std                  NaN  \n",
       "min                  NaN  \n",
       "25%                  NaN  \n",
       "50%                  NaN  \n",
       "75%                  NaN  \n",
       "max                  NaN  "
      ]
     },
     "execution_count": 15,
     "metadata": {},
     "output_type": "execute_result"
    }
   ],
   "source": [
    "df.describe(include='all')"
   ]
  },
  {
   "cell_type": "markdown",
   "metadata": {},
   "source": [
    "##### REMOVING ALL THE EMAIL AND NEWLINE CHARACTERS"
   ]
  },
  {
   "cell_type": "code",
   "execution_count": 9,
   "metadata": {},
   "outputs": [
    {
     "name": "stdout",
     "output_type": "stream",
     "text": [
      "['From: (wheres my thing) Subject: WHAT car is this!? Nntp-Posting-Host: '\n",
      " 'rac3.wam.umd.edu Organization: University of Maryland, College Park Lines: '\n",
      " '15 I was wondering if anyone out there could enlighten me on this car I saw '\n",
      " 'the other day. It was a 2-door sports car, looked to be from the late 60s/ '\n",
      " 'early 70s. It was called a Bricklin. The doors were really small. In '\n",
      " 'addition, the front bumper was separate from the rest of the body. This is '\n",
      " 'all I know. If anyone can tellme a model name, engine specs, years of '\n",
      " 'production, where this car is made, history, or whatever info you have on '\n",
      " 'this funky looking car, please e-mail. Thanks, - IL ---- brought to you by '\n",
      " 'your neighborhood Lerxst ---- ']\n"
     ]
    }
   ],
   "source": [
    "# Convert to list \n",
    "df = df.content.values.tolist()  \n",
    "# Remove Emails \n",
    "df = [re.sub('\\S*@\\S*\\s?', '', sent) for sent in df]  \n",
    "# Remove new line characters \n",
    "df = [re.sub('\\s+', ' ', sent) for sent in df]  \n",
    "# Remove distracting single quotes \n",
    "df= [re.sub(\"\\'\", \"\", sent) for sent in df]  \n",
    "pprint(df[:1])"
   ]
  },
  {
   "cell_type": "markdown",
   "metadata": {},
   "source": [
    "#### TOKENIZATION OF THE WORDS USING simple_preprocess() "
   ]
  },
  {
   "cell_type": "code",
   "execution_count": 10,
   "metadata": {},
   "outputs": [
    {
     "name": "stdout",
     "output_type": "stream",
     "text": [
      "[['from', 'wheres', 'my', 'thing', 'subject', 'what', 'car', 'is', 'this', 'nntp', 'posting', 'host', 'rac', 'wam', 'umd', 'edu', 'organization', 'university', 'of', 'maryland', 'college', 'park', 'lines', 'was', 'wondering', 'if', 'anyone', 'out', 'there', 'could', 'enlighten', 'me', 'on', 'this', 'car', 'saw', 'the', 'other', 'day', 'it', 'was', 'door', 'sports', 'car', 'looked', 'to', 'be', 'from', 'the', 'late', 'early', 'it', 'was', 'called', 'bricklin', 'the', 'doors', 'were', 'really', 'small', 'in', 'addition', 'the', 'front', 'bumper', 'was', 'separate', 'from', 'the', 'rest', 'of', 'the', 'body', 'this', 'is', 'all', 'know', 'if', 'anyone', 'can', 'tellme', 'model', 'name', 'engine', 'specs', 'years', 'of', 'production', 'where', 'this', 'car', 'is', 'made', 'history', 'or', 'whatever', 'info', 'you', 'have', 'on', 'this', 'funky', 'looking', 'car', 'please', 'mail', 'thanks', 'il', 'brought', 'to', 'you', 'by', 'your', 'neighborhood', 'lerxst']]\n"
     ]
    }
   ],
   "source": [
    "def sent_to_words(sentences):\n",
    "    for sentence in sentences:\n",
    "\n",
    "        #using simple_preprocess to convert all the words to lower case and tokenize the document\n",
    "\n",
    "        yield(gensim.utils.simple_preprocess(str(sentence),deacc=True))     \n",
    "\n",
    "data_words=list(sent_to_words(df))\n",
    "\n",
    "print(data_words[:1])\n"
   ]
  },
  {
   "cell_type": "markdown",
   "metadata": {},
   "source": [
    "#### CREATING BIGRAM AND TRIGRAM MODELS"
   ]
  },
  {
   "cell_type": "code",
   "execution_count": 11,
   "metadata": {},
   "outputs": [],
   "source": [
    "bigram= gensim.models.Phrases(data_words,min_count=5,threshold=100)\n",
    "trigram=gensim.models.Phrases(bigram[data_words],threshold=100)\n",
    "\n",
    "# Faster way to get a sentence clubbed as a trigram/bigram\n",
    "bigram_mod = gensim.models.phrases.Phraser(bigram)\n",
    "trigram_mod = gensim.models.phrases.Phraser(trigram)"
   ]
  },
  {
   "cell_type": "markdown",
   "metadata": {},
   "source": [
    "#### DEFINING FUNCTIONS FOR REMOVING STOPWORDS,MAKE BIGRAMS-TRIGRAMS AND LEMMATIZE "
   ]
  },
  {
   "cell_type": "code",
   "execution_count": 12,
   "metadata": {},
   "outputs": [],
   "source": [
    "#function for removing stopwords\n",
    "def remove_stopwords(texts):\n",
    "    return([[word for word in simple_preprocess(str(doc)) if word not in stop_words] for doc in texts])\n",
    "\n",
    "\n",
    "#function for making bigrams\n",
    "def make_bigrams(texts):   \n",
    "    return [bigram_mod[doc] for doc in texts] \n",
    "\n",
    "\n",
    "#function for making trigrams\n",
    "def make_trigrams(texts):   \n",
    "    return [trigram_mod[doc] for doc in texts] \n",
    "\n",
    "\n",
    "#function for lemmatization\n",
    "#allowed postags are the specific words which will be eligible for TOKENIZATION\n",
    "def lemmatization(texts,allowed_postags=['NOUN','ADJ','VERB','ADV']):\n",
    "\n",
    "    texts_out=[]\n",
    "\n",
    "    for sent in texts:\n",
    "        doc=nlp(\" \".join(sent))\n",
    "        texts_out.append([token.lemma_ for token in doc if token.pos_ in allowed_postags])\n",
    "    return texts_out    "
   ]
  },
  {
   "cell_type": "markdown",
   "metadata": {},
   "source": [
    "#### CALLING THE FUNCTIONS IN ORDER"
   ]
  },
  {
   "cell_type": "code",
   "execution_count": 14,
   "metadata": {},
   "outputs": [],
   "source": [
    "#calling the REMOVE STOP_WORDS FUNCTION.\n",
    "data_words_nostops=remove_stopwords(data_words)\n",
    "\n",
    "#function for formation of bigrams \n",
    "data_words_bigrams= make_bigrams(data_words_nostops)"
   ]
  },
  {
   "cell_type": "code",
   "execution_count": 15,
   "metadata": {},
   "outputs": [],
   "source": [
    "#function for formation of trigrams \n",
    "data_words_trigrams= make_trigrams(data_words_nostops)"
   ]
  },
  {
   "cell_type": "code",
   "execution_count": 36,
   "metadata": {},
   "outputs": [
    {
     "name": "stdout",
     "output_type": "stream",
     "text": [
      "[['s', 'thing', 'car', 'nntp_poste', 'host', 'umd', 'organization', 'park', 'line', 'wonder', 'enlighten', 'car', 'see', 'day', 'door', 'sport', 'car', 'look', 'late', 'early', 'call', 'bricklin', 'door', 'really', 'small', 'addition', 'separate', 'rest', 'body', 'know', 'tellme', 'model', 'name', 'engine', 'spec', 'year', 'production', 'car', 'make', 'history', 'info', 'funky', 'look', 'car', 'mail', 'thank', 'bring', 'neighborhood', 'lerxst']]\n"
     ]
    }
   ],
   "source": [
    "# Initialize spacy 'en' model, keeping only tagger component (for efficiency)\n",
    "# python3 -m spacy download en\n",
    "\n",
    "nlp = spacy.load('en_core_web_sm', disable=['parser', 'ner'])\n",
    "\n",
    "\n",
    "#Lemitize only the words which gets categorized under ALlOWED POSTAGS\n",
    "data_lemmatized=lemmatization(data_words_bigrams,allowed_postags=['NOUN','ADJ','VERB','ADV'])\n",
    "\n",
    "print(data_lemmatized[:1])"
   ]
  },
  {
   "cell_type": "markdown",
   "metadata": {},
   "source": [
    "#### CREATE THE DICTIONARY AND CORPUS NEEDED FOR TOPIC MODELING"
   ]
  },
  {
   "cell_type": "code",
   "execution_count": 27,
   "metadata": {},
   "outputs": [
    {
     "name": "stdout",
     "output_type": "stream",
     "text": [
      "[[(0, 1), (1, 1), (2, 1), (3, 1), (4, 1), (5, 5), (6, 1), (7, 2), (8, 1), (9, 1), (10, 1), (11, 1), (12, 1), (13, 1), (14, 1), (15, 1), (16, 1), (17, 1), (18, 1), (19, 2), (20, 1), (21, 1), (22, 1), (23, 1), (24, 1), (25, 1), (26, 1), (27, 1), (28, 1), (29, 1), (30, 1), (31, 1), (32, 1), (33, 1), (34, 1), (35, 1), (36, 1), (37, 1), (38, 1), (39, 1), (40, 1), (41, 1), (42, 1)]]\n"
     ]
    }
   ],
   "source": [
    "#Create Dictionary \n",
    "id2word = corpora.Dictionary(data_lemmatized)\n",
    "\n",
    "\n",
    "#Create corpus\n",
    "texts = data_lemmatized\n",
    "\n",
    "\n",
    "#Term Document Frequency\n",
    "corpus = [id2word.doc2bow(text) for text in texts]\n",
    "\n",
    "\n",
    "# WHAT WE'RE VIEWING HERE IS THE MAPPING OF WORD_ID,WORD_FREQUENCY.THIS WILL BE USED AS INPUT TO THE LDA MODEL\n",
    "  \n",
    "print(corpus[:1])\n"
   ]
  },
  {
   "cell_type": "code",
   "execution_count": 28,
   "metadata": {},
   "outputs": [
    {
     "data": {
      "text/plain": [
       "'call'"
      ]
     },
     "execution_count": 28,
     "metadata": {},
     "output_type": "execute_result"
    }
   ],
   "source": [
    "# We can view what the given id corresponds to by passing the id as key to Dictionary\n",
    "id2word[4]"
   ]
  },
  {
   "cell_type": "markdown",
   "metadata": {},
   "source": [
    "#### BUILDING THE TOPIC MODEL\n"
   ]
  },
  {
   "cell_type": "code",
   "execution_count": 29,
   "metadata": {},
   "outputs": [],
   "source": [
    "#ALONG WITH THE DICTIONARY AND CORPUS,WE NEED TO SPECIFY THE NUMBER OF TOPICS AS WELL\n",
    "lda_model= gensim.models.ldamodel.LdaModel(corpus=corpus,\n",
    "                                           id2word=id2word,\n",
    "                                           num_topics=20,\n",
    "                                           random_state=100,\n",
    "                                           update_every=1,\n",
    "                                           chunksize=100,\n",
    "                                           passes=10,\n",
    "                                           alpha='auto',\n",
    "                                           per_word_topics=True)\n",
    "                                               "
   ]
  },
  {
   "cell_type": "markdown",
   "metadata": {},
   "source": [
    "    Alpha parameter is Dirichlet prior concentration parameter that represents document-topic density — with a higher alpha, \n",
    "    documents are assumed to be made up of more topics and result in more specific topic distribution per document.\n",
    "\n",
    "    Beta parameter is the same prior concentration parameter that represents topic-word density — with high beta, \n",
    "    topics are assumed to made of up most of the words and result in a more specific word distribution per topic   \n"
   ]
  },
  {
   "cell_type": "markdown",
   "metadata": {},
   "source": [
    "#### VIEW THE TOPICS IN LDA MODEL"
   ]
  },
  {
   "cell_type": "markdown",
   "metadata": {},
   "source": [
    "    The model is built with 20 different topics where each topic is a combination of keywords and each keyword\n",
    "    adds on to the weightage of the topic"
   ]
  },
  {
   "cell_type": "code",
   "execution_count": 30,
   "metadata": {},
   "outputs": [
    {
     "name": "stdout",
     "output_type": "stream",
     "text": [
      "[(0,\n",
      "  '0.064*\"nhl\" + 0.059*\"recommend\" + 0.051*\"gateway\" + 0.039*\"flight\" + '\n",
      "  '0.031*\"fuel\" + 0.027*\"floor\" + 0.024*\"bank\" + 0.018*\"space_station\" + '\n",
      "  '0.017*\"phase\" + 0.017*\"qualified\"'),\n",
      " (1,\n",
      "  '0.095*\"key\" + 0.040*\"physical\" + 0.037*\"public\" + 0.028*\"encryption\" + '\n",
      "  '0.027*\"chip\" + 0.025*\"security\" + 0.022*\"private\" + 0.021*\"master\" + '\n",
      "  '0.020*\"government\" + 0.018*\"clipper\"'),\n",
      " (2,\n",
      "  '0.028*\"believe\" + 0.025*\"evidence\" + 0.023*\"reason\" + 0.018*\"say\" + '\n",
      "  '0.017*\"claim\" + 0.015*\"christian\" + 0.015*\"sense\" + 0.013*\"exist\" + '\n",
      "  '0.012*\"fact\" + 0.012*\"faith\"'),\n",
      " (3,\n",
      "  '0.072*\"team\" + 0.069*\"game\" + 0.050*\"play\" + 0.048*\"win\" + 0.040*\"year\" + '\n",
      "  '0.034*\"player\" + 0.024*\"season\" + 0.018*\"fan\" + 0.018*\"goal\" + 0.017*\"run\"'),\n",
      " (4,\n",
      "  '0.093*\"ide\" + 0.078*\"mother\" + 0.040*\"remind\" + 0.019*\"ultimate\" + '\n",
      "  '0.015*\"winter\" + 0.012*\"beauty\" + 0.011*\"absurd\" + 0.009*\"grip\" + '\n",
      "  '0.004*\"credibility\" + 0.002*\"stall\"'),\n",
      " (5,\n",
      "  '0.135*\"monitor\" + 0.043*\"rd\" + 0.034*\"trivial\" + 0.021*\"suck\" + '\n",
      "  '0.009*\"space_dig\" + 0.009*\"added_forwarde\" + 0.008*\"rod\" + 0.004*\"infinity\" '\n",
      "  '+ 0.004*\"caution\" + 0.003*\"golden\"'),\n",
      " (6,\n",
      "  '0.033*\"government\" + 0.032*\"state\" + 0.020*\"country\" + 0.017*\"attack\" + '\n",
      "  '0.016*\"war\" + 0.015*\"israeli\" + 0.013*\"city\" + 0.013*\"greek\" + '\n",
      "  '0.013*\"force\" + 0.013*\"soldier\"'),\n",
      " (7,\n",
      "  '0.057*\"people\" + 0.023*\"group\" + 0.020*\"man\" + 0.020*\"say\" + 0.018*\"book\" + '\n",
      "  '0.016*\"issue\" + 0.014*\"live\" + 0.013*\"name\" + 0.012*\"day\" + 0.011*\"person\"'),\n",
      " (8,\n",
      "  '0.021*\"get\" + 0.016*\"go\" + 0.016*\"make\" + 0.015*\"write\" + 0.015*\"know\" + '\n",
      "  '0.014*\"think\" + 0.013*\"good\" + 0.013*\"time\" + 0.012*\"well\" + 0.012*\"see\"'),\n",
      " (9,\n",
      "  '0.135*\"line\" + 0.082*\"organization\" + 0.061*\"nntp_poste\" + 0.059*\"write\" + '\n",
      "  '0.055*\"host\" + 0.051*\"article\" + 0.028*\"thank\" + 0.025*\"reply\" + '\n",
      "  '0.022*\"university\" + 0.017*\"card\"'),\n",
      " (10,\n",
      "  '0.128*\"graphic\" + 0.067*\"mount\" + 0.054*\"convert\" + 0.042*\"workstation\" + '\n",
      "  '0.030*\"capture\" + 0.024*\"please_respond\" + 0.021*\"camera\" + '\n",
      "  '0.018*\"positively\" + 0.011*\"creature\" + 0.009*\"weeks_ago\"'),\n",
      " (11,\n",
      "  '0.094*\"child\" + 0.049*\"fire\" + 0.048*\"drug\" + 0.031*\"kid\" + '\n",
      "  '0.030*\"corporation\" + 0.026*\"die\" + 0.025*\"trial\" + 0.025*\"firearm\" + '\n",
      "  '0.024*\"boy\" + 0.024*\"wife\"'),\n",
      " (12,\n",
      "  '0.099*\"law\" + 0.075*\"gun\" + 0.029*\"crime\" + 0.027*\"weapon\" + 0.026*\"murder\" '\n",
      "  '+ 0.025*\"revelation\" + 0.020*\"blank\" + 0.017*\"death\" + 0.017*\"hole\" + '\n",
      "  '0.017*\"vote\"'),\n",
      " (13,\n",
      "  '0.107*\"space\" + 0.068*\"science\" + 0.040*\"field\" + 0.038*\"earth\" + '\n",
      "  '0.030*\"launch\" + 0.028*\"scientific\" + 0.026*\"orbit\" + 0.025*\"mission\" + '\n",
      "  '0.025*\"moon\" + 0.021*\"satellite\"'),\n",
      " (14,\n",
      "  '0.062*\"armenian\" + 0.048*\"turk\" + 0.042*\"turkish\" + 0.041*\"muslim\" + '\n",
      "  '0.021*\"islamic\" + 0.020*\"escape\" + 0.018*\"relation\" + 0.017*\"proceed\" + '\n",
      "  '0.015*\"genocide\" + 0.015*\"turkey\"'),\n",
      " (15,\n",
      "  '0.070*\"cop\" + 0.065*\"clipper_chip\" + 0.048*\"proposal\" + 0.040*\"crypto\" + '\n",
      "  '0.040*\"export\" + 0.021*\"revolver\" + 0.019*\"police\" + 0.015*\"entitle\" + '\n",
      "  '0.009*\"radar\" + 0.006*\"privately\"'),\n",
      " (16,\n",
      "  '0.124*\"image\" + 0.062*\"format\" + 0.062*\"scan\" + 0.056*\"family\" + '\n",
      "  '0.049*\"scsi\" + 0.041*\"headache\" + 0.023*\"quadra\" + 0.021*\"intel\" + '\n",
      "  '0.020*\"utility\" + 0.019*\"specification\"'),\n",
      " (17,\n",
      "  '0.776*\"ax\" + 0.019*\"wing\" + 0.016*\"direct\" + 0.009*\"dual\" + 0.008*\"quick\" + '\n",
      "  '0.007*\"trace\" + 0.006*\"human_being\" + 0.004*\"partner\" + 0.004*\"dirty\" + '\n",
      "  '0.004*\"quran\"'),\n",
      " (18,\n",
      "  '0.048*\"drive\" + 0.031*\"car\" + 0.022*\"buy\" + 0.021*\"high\" + 0.020*\"power\" + '\n",
      "  '0.020*\"price\" + 0.018*\"sell\" + 0.018*\"sale\" + 0.018*\"cost\" + 0.016*\"low\"'),\n",
      " (19,\n",
      "  '0.027*\"system\" + 0.024*\"use\" + 0.018*\"program\" + 0.017*\"file\" + '\n",
      "  '0.014*\"window\" + 0.013*\"run\" + 0.012*\"include\" + 0.011*\"available\" + '\n",
      "  '0.011*\"information\" + 0.010*\"source\"')]\n"
     ]
    }
   ],
   "source": [
    "pprint(lda_model.print_topics())\n",
    "doc_lda=lda_model[corpus]\n"
   ]
  },
  {
   "cell_type": "markdown",
   "metadata": {},
   "source": [
    "    THE ABOVE WEIGHTS REPRESENTS HOW MUCH A WORD IS CONTRIBUTING TO THE TOPICS"
   ]
  },
  {
   "cell_type": "markdown",
   "metadata": {},
   "source": [
    "#### COMPLEX MODEL PERPLEXITY AND COHERENCE SCORE"
   ]
  },
  {
   "cell_type": "code",
   "execution_count": 31,
   "metadata": {},
   "outputs": [
    {
     "name": "stdout",
     "output_type": "stream",
     "text": [
      " Perplexity:  -13.368808729846432\n",
      "\n",
      "Coherence Score:  0.5237564492819576\n"
     ]
    }
   ],
   "source": [
    "#Perplexity metric in NLP is a way to capture the measure of ‘uncertainty’ a model has in predicting \n",
    "print(\" Perplexity: \", lda_model.log_perplexity(corpus))\n",
    "\n",
    "\n",
    "\n",
    "# Compute Coherence Score\n",
    "coherence_model_lda = CoherenceModel(model=lda_model, texts=data_lemmatized, dictionary=id2word, coherence='c_v')\n",
    "coherence_lda = coherence_model_lda.get_coherence()\n",
    "print('\\nCoherence Score: ', coherence_lda)"
   ]
  },
  {
   "cell_type": "markdown",
   "metadata": {},
   "source": [
    "#### VISUALIZE THE TOPICS-KEYWORDS"
   ]
  },
  {
   "cell_type": "code",
   "execution_count": 32,
   "metadata": {},
   "outputs": [
    {
     "name": "stderr",
     "output_type": "stream",
     "text": [
      "g:\\Anaconda\\envs\\ml\\lib\\site-packages\\pyLDAvis\\_prepare.py:246: FutureWarning: In a future version of pandas all arguments of DataFrame.drop except for the argument 'labels' will be keyword-only\n",
      "  default_term_info = default_term_info.sort_values(\n"
     ]
    },
    {
     "data": {
      "text/html": [
       "\n",
       "<link rel=\"stylesheet\" type=\"text/css\" href=\"https://cdn.jsdelivr.net/gh/bmabey/pyLDAvis@3.3.1/pyLDAvis/js/ldavis.v1.0.0.css\">\n",
       "\n",
       "\n",
       "<div id=\"ldavis_el2146013538158615045532122919\"></div>\n",
       "<script type=\"text/javascript\">\n",
       "\n",
       "var ldavis_el2146013538158615045532122919_data = {\"mdsDat\": {\"x\": [0.3428794216804012, 0.2779008587975431, 0.26787234428178924, 0.24278348583827164, 0.21006707680167502, 0.13500812386322655, -0.03903391493880275, 0.09161726657923648, 0.04024877732597815, 0.04038505893399026, -0.04644449437359258, -0.09199295941286464, -0.11106732487320588, -0.1518938616579458, -0.17256948157769475, -0.1928903804142008, -0.1997581925427685, -0.21077042496483317, -0.21649967249130428, -0.21584170685489798], \"y\": [0.0678635559139978, -0.10924032653431102, 0.23367432856023077, 0.14019594218965373, -0.28020472232493165, -0.17841079053371348, -0.07747007360458552, 0.11719841396276097, 0.023355483213686645, -0.076403391939408, 0.07752200161068849, -0.03785092187597777, 0.01240501327302181, 0.024894445786863385, 0.003154700113234855, 0.008612330275038884, 0.00957802649499462, 0.01415241280400895, 0.013536895075971004, 0.01343667753877431], \"topics\": [1, 2, 3, 4, 5, 6, 7, 8, 9, 10, 11, 12, 13, 14, 15, 16, 17, 18, 19, 20], \"cluster\": [1, 1, 1, 1, 1, 1, 1, 1, 1, 1, 1, 1, 1, 1, 1, 1, 1, 1, 1, 1], \"Freq\": [38.23864957300654, 12.383472838691038, 8.63991426625947, 8.52069606202689, 8.307041728257397, 5.532285680290052, 4.338414108285605, 3.7366493699490584, 2.3958620629722542, 2.011412730491303, 1.4355473234092573, 1.0853594749558264, 1.0600557355091647, 0.750340608616903, 0.5236720295300082, 0.3296665986941546, 0.26417857991434573, 0.19606248461203818, 0.13680183698556939, 0.1139169075431425]}, \"tinfo\": {\"Term\": [\"ax\", \"line\", \"organization\", \"write\", \"article\", \"nntp_poste\", \"people\", \"host\", \"year\", \"drive\", \"say\", \"key\", \"team\", \"system\", \"use\", \"game\", \"right\", \"law\", \"good\", \"believe\", \"m\", \"thank\", \"state\", \"get\", \"go\", \"space\", \"reason\", \"evidence\", \"run\", \"think\", \"s\", \"much\", \"really\", \"ve\", \"sure\", \"still\", \"back\", \"re\", \"hear\", \"little\", \"put\", \"lot\", \"probably\", \"enough\", \"maybe\", \"turn\", \"hard\", \"ill\", \"else\", \"sound\", \"guess\", \"experience\", \"pretty\", \"couple\", \"suggest\", \"disk\", \"bike\", \"care\", \"section\", \"soon\", \"time\", \"go\", \"long\", \"bad\", \"well\", \"let\", \"good\", \"get\", \"great\", \"actually\", \"make\", \"see\", \"start\", \"think\", \"want\", \"know\", \"try\", \"way\", \"take\", \"thing\", \"give\", \"d\", \"tell\", \"even\", \"come\", \"write\", \"m\", \"seem\", \"work\", \"say\", \"article\", \"also\", \"look\", \"right\", \"program\", \"file\", \"window\", \"available\", \"software\", \"machine\", \"copy\", \"test\", \"version\", \"code\", \"entry\", \"memory\", \"application\", \"screen\", \"hardware\", \"cpu\", \"device\", \"network\", \"pc\", \"tape\", \"server\", \"display\", \"function\", \"package\", \"mode\", \"input\", \"character\", \"faq\", \"normal\", \"notice\", \"instal\", \"user\", \"datum\", \"system\", \"source\", \"include\", \"use\", \"information\", \"run\", \"bit\", \"set\", \"support\", \"do\", \"message\", \"also\", \"problem\", \"work\", \"follow\", \"number\", \"evidence\", \"claim\", \"christian\", \"sense\", \"faith\", \"god\", \"religion\", \"argument\", \"patient\", \"truth\", \"belief\", \"atheist\", \"church\", \"statement\", \"conclusion\", \"religious\", \"reality\", \"deny\", \"define\", \"authority\", \"nature\", \"knowledge\", \"therefore\", \"respect\", \"disease\", \"moral\", \"clearly\", \"refer\", \"telnet\", \"proof\", \"believe\", \"prove\", \"exist\", \"reason\", \"true\", \"word\", \"accept\", \"view\", \"explain\", \"fact\", \"mean\", \"say\", \"question\", \"example\", \"agree\", \"point\", \"people\", \"however\", \"many\", \"think\", \"man\", \"discussion\", \"internet\", \"human\", \"body\", \"serious\", \"lie\", \"bear\", \"account\", \"quote\", \"dead\", \"treatment\", \"doctor\", \"terrorism\", \"suffer\", \"heart\", \"rational\", \"context\", \"past\", \"scripture\", \"justify\", \"club\", \"medical\", \"hide\", \"concerned\", \"topic\", \"father\", \"anti\", \"principle\", \"grow\", \"book\", \"indeed\", \"woman\", \"face\", \"group\", \"age\", \"study\", \"people\", \"issue\", \"live\", \"young\", \"risk\", \"posting\", \"person\", \"life\", \"death\", \"name\", \"appear\", \"become\", \"day\", \"begin\", \"say\", \"member\", \"bring\", \"post\", \"order\", \"come\", \"many\", \"call\", \"first\", \"also\", \"nntp_poste\", \"host\", \"thank\", \"card\", \"keyword\", \"color\", \"appreciate\", \"usa\", \"version_pl\", \"distribution_usa\", \"manual\", \"printer\", \"dept\", \"signal\", \"baseball\", \"communication\", \"circuit\", \"interface\", \"serial\", \"park\", \"greatly_appreciate\", \"brave\", \"spec\", \"consult\", \"guilty\", \"purdue_university\", \"automatically\", \"appreciated\", \"bounce\", \"voltage\", \"university\", \"reply\", \"advance\", \"com\", \"organization\", \"line\", \"interested\", \"driver\", \"laboratory\", \"phone\", \"mine\", \"article\", \"write\", \"mail\", \"help\", \"computer\", \"post\", \"email\", \"need\", \"net\", \"m\", \"technology\", \"research\", \"look\", \"info\", \"know\", \"drive\", \"car\", \"price\", \"sell\", \"sale\", \"cost\", \"low\", \"rate\", \"pin\", \"cheap\", \"wire\", \"engine\", \"eat\", \"cool\", \"radio\", \"air\", \"owner\", \"purchase\", \"mile\", \"market\", \"hot\", \"processor\", \"expensive\", \"insurance\", \"cable\", \"warranty\", \"student\", \"surface\", \"battery\", \"cycle\", \"ground\", \"buy\", \"front\", \"replace\", \"safety\", \"power\", \"model\", \"meet\", \"high\", \"pay\", \"speed\", \"job\", \"increase\", \"new\", \"lead\", \"offer\", \"less\", \"old\", \"ax\", \"wing\", \"direct\", \"dual\", \"quick\", \"trace\", \"human_being\", \"partner\", \"dirty\", \"quran\", \"tm\", \"semi\", \"adam\", \"eve\", \"genesis\", \"rutger\", \"ruler\", \"stamp\", \"appoint\", \"rushdie\", \"herein\", \"seattle_wa\", \"optimize\", \"preliminary\", \"keen\", \"persistent\", \"islamic_law\", \"mf\", \"pl_pl\", \"wm\", \"end\", \"country\", \"war\", \"israeli\", \"community\", \"military\", \"land\", \"arab\", \"trust\", \"political\", \"occupy\", \"withdraw\", \"arm\", \"route\", \"united_state\", \"plane\", \"international\", \"civilian\", \"impact\", \"bomb\", \"aim\", \"minority\", \"zone\", \"ethnic\", \"percent\", \"constitution\", \"inhabitant\", \"british\", \"invasion\", \"duty\", \"consideration\", \"village\", \"attack\", \"city\", \"soldier\", \"greek\", \"government\", \"population\", \"state\", \"national\", \"force\", \"policy\", \"citizen\", \"police\", \"report\", \"control\", \"area\", \"jewish\", \"year\", \"right\", \"kill\", \"team\", \"game\", \"play\", \"win\", \"player\", \"season\", \"fan\", \"score\", \"pen\", \"average\", \"pack\", \"stat\", \"militia\", \"helmet\", \"devil\", \"decent\", \"predict\", \"offense\", \"pitch\", \"deserve\", \"penguin\", \"daughter\", \"leafs\", \"cross\", \"penalty\", \"rob\", \"pt\", \"hitter\", \"captain\", \"restore\", \"goal\", \"division\", \"star\", \"trade\", \"year\", \"hit\", \"lose\", \"run\", \"pick\", \"final\", \"last\", \"first\", \"defense\", \"next\", \"key\", \"physical\", \"encryption\", \"security\", \"private\", \"master\", \"clipper\", \"secure\", \"tap\", \"secret\", \"listen\", \"health\", \"nsa\", \"session\", \"statistic\", \"privacy\", \"production\", \"finish\", \"scheme\", \"ban\", \"pgp\", \"approve\", \"implementation\", \"warrant\", \"cryptography\", \"brother\", \"giant\", \"prevention\", \"fed\", \"danger\", \"criminal\", \"public\", \"chip\", \"block\", \"protect\", \"government\", \"technology\", \"industry\", \"system\", \"phone\", \"information\", \"provide\", \"bit\", \"law\", \"gun\", \"weapon\", \"revelation\", \"blank\", \"disagree\", \"baby\", \"expansion\", \"gun_control\", \"mercy\", \"ammunition\", \"violate\", \"relationship\", \"regulation\", \"follower\", \"analogy\", \"handgun\", \"civil\", \"translate\", \"shotgun\", \"trigger\", \"massive\", \"upset\", \"rifle\", \"tavare\", \"appeal\", \"cash\", \"arbitrary\", \"television\", \"competition\", \"crime\", \"hole\", \"vote\", \"court\", \"murder\", \"packet\", \"property\", \"shoot\", \"prohibit\", \"commit\", \"license\", \"death\", \"kill\", \"carry\", \"protect\", \"right\", \"state\", \"person\", \"objective\", \"science\", \"field\", \"launch\", \"scientific\", \"orbit\", \"mission\", \"moon\", \"satellite\", \"shuttle\", \"frame\", \"astronomy\", \"probe\", \"unknown\", \"spring\", \"sky\", \"origin\", \"locate\", \"mar\", \"regularly\", \"lunar\", \"radiation\", \"solar\", \"ozone\", \"evolution\", \"planetary\", \"observe\", \"frequently_aske\", \"intelligence\", \"atmosphere\", \"orbital\", \"space\", \"earth\", \"rocket\", \"objective\", \"project\", \"research\", \"fire\", \"drug\", \"kid\", \"corporation\", \"firearm\", \"boy\", \"wife\", \"parent\", \"fill\", \"dream\", \"abuse\", \"violence\", \"insert\", \"immediate\", \"lawyer\", \"investigation\", \"koresh\", \"threat\", \"sheet\", \"unable\", \"compound\", \"cult\", \"chief\", \"scare\", \"unusual\", \"afford\", \"scope\", \"atf\", \"rain\", \"survivor\", \"child\", \"trial\", \"tank\", \"alive\", \"step\", \"die\", \"sad\", \"report\", \"witness\", \"armenian\", \"turk\", \"turkish\", \"muslim\", \"islamic\", \"escape\", \"relation\", \"genocide\", \"turkey\", \"massacre\", \"moslem\", \"nazi\", \"conservative\", \"plot\", \"slaughter\", \"kurd\", \"stuff_delete\", \"rebel\", \"mad\", \"longer_exist\", \"remainder\", \"mountain_passe\", \"might_serve\", \"extermination_ohanus\", \"melkonian\", \"volunteer\", \"serdar_argic\", \"territorial\", \"fascist\", \"atrocity\", \"proceed\", \"democracy\", \"region\", \"murder\", \"road\", \"today\", \"soldier\", \"destroy\", \"close\", \"image\", \"format\", \"scan\", \"family\", \"scsi\", \"headache\", \"quadra\", \"intel\", \"utility\", \"specification\", \"ftp_site\", \"significance\", \"maximum\", \"app\", \"press_release\", \"association\", \"tiff\", \"assembler\", \"developer\", \"synchronous\", \"intentionally\", \"script\", \"nm\", \"txt\", \"thesis\", \"ini_file\", \"las_cruce\", \"esdi\", \"fasst\", \"detailed\", \"mb\", \"wide\", \"environment\", \"nhl\", \"recommend\", \"gateway\", \"flight\", \"fuel\", \"floor\", \"bank\", \"space_station\", \"phase\", \"qualified\", \"simms\", \"motor\", \"crew\", \"meg\", \"micro\", \"simm\", \"diameter\", \"tail\", \"utilize\", \"dock\", \"redesign\", \"n\", \"in\", \"ist\", \"ssf\", \"propulsion\", \"ists_ca\", \"cone\", \"ns_simms\", \"bee\", \"station\", \"graphic\", \"mount\", \"convert\", \"workstation\", \"capture\", \"please_respond\", \"camera\", \"positively\", \"creature\", \"weeks_ago\", \"biological\", \"shareware\", \"cord\", \"hassle\", \"reflection\", \"clinton_gore\", \"visualization\", \"cubic\", \"impedance\", \"jubilees_re\", \"baby_bike\", \"wide_glide\", \"workshop\", \"scott_roby\", \"wild_corn\", \"corinthian\", \"cooler\", \"este\", \"vertical\", \"socket\", \"cop\", \"clipper_chip\", \"proposal\", \"crypto\", \"export\", \"revolver\", \"entitle\", \"radar\", \"privately\", \"chamber\", \"ab\", \"cock\", \"malfunction\", \"police\", \"encrypt\", \"ripem\", \"key_escrow\", \"escrow_house\", \"glock\", \"crap\", \"law_enforcement\", \"assertion\", \"agency\", \"protocol\", \"database\", \"corp_sunnyvale\", \"announcement\", \"spoof_chip\", \"escrow\", \"detection\", \"poster\", \"transmit\", \"chance\", \"judge\", \"president\", \"rd\", \"trivial\", \"suck\", \"monitor\", \"space_dig\", \"added_forwarde\", \"rod\", \"infinity\", \"caution\", \"golden\", \"_\", \"c\", \"cx\", \"gc\", \"sy\", \"hz\", \"vram_simms\", \"zd\", \"sphere\", \"sj\", \"cx_sc\", \"ucs\", \"y\", \"cua\", \"desk\", \"gy\", \"cx_cx\", \"mc\", \"r\", \"caste\", \"sp\", \"centris\", \"paranoia\", \"rlk\", \"ide\", \"mother\", \"remind\", \"ultimate\", \"winter\", \"beauty\", \"absurd\", \"grip\", \"credibility\", \"stall\", \"slave\", \"jumper\", \"dma\", \"sector\", \"cp_ut\", \"isa_bus\", \"maxtor\", \"prophesy\", \"prayer\", \"vesa_local\", \"prediction\", \"master_slave\", \"pray\", \"alessandro\", \"guido\", \"ide_controller\", \"intrinsically\", \"setting\", \"messenger\", \"maria\", \"pdiag\", \"evil\", \"disabled\", \"closed\", \"mbyte\", \"laugh\", \"_\", \"os\"], \"Freq\": [43299.0, 17046.0, 9996.0, 13715.0, 9744.0, 6543.0, 8076.0, 5865.0, 4779.0, 3429.0, 8939.0, 2462.0, 2226.0, 5364.0, 6469.0, 2129.0, 4052.0, 1825.0, 6779.0, 3160.0, 5682.0, 2987.0, 2896.0, 10701.0, 7955.0, 1563.0, 3273.0, 2761.0, 3365.0, 7615.0, 4450.682984024933, 3845.319140120205, 3153.0894678816253, 2976.6203440994773, 2780.232713781587, 2775.9024344890963, 2652.5259818441486, 2311.6731022656227, 2151.9716512150817, 2097.0868088817183, 2042.6016001254309, 2042.0135940203297, 2011.9801922737554, 1750.7261500466332, 1506.2741133326538, 1317.1052936604565, 1265.778014149821, 1215.7725467283092, 1156.708832669028, 1146.688924820444, 966.1253879549554, 957.7697044700111, 922.8290038159365, 905.0641926659281, 895.1243374196249, 885.9072444459504, 863.524502515485, 828.3839278515702, 810.6242666187921, 771.5057814435479, 6496.491494831007, 7903.769779228042, 2499.3875853119685, 2250.9294852058006, 6121.982189513051, 2185.1220117546754, 6616.057008725494, 10307.23843948562, 1960.9017109866484, 1558.7846149376142, 7758.051383441353, 5801.146008225459, 2084.2777058611755, 6659.381316860162, 4294.240400597759, 7281.44874563763, 3824.0096981618476, 3822.84787683468, 4192.981583588518, 4030.7637685366217, 3677.771732947919, 2747.910688817844, 3047.466496568779, 3480.940065322168, 3922.7326959268626, 7317.638243998763, 4009.31585102607, 2758.242567207982, 3555.7457030433748, 4748.005329894367, 4338.72241012581, 3630.1436962051484, 3029.1147092971155, 2997.8824068193153, 2899.177567031038, 2757.4908242670094, 2175.6051060175287, 1743.3991957353192, 1525.9822480978041, 1397.7639469529277, 1338.363065652192, 1316.9272056625246, 1267.6508933855748, 1236.5392098210561, 1156.3848521783066, 1120.3792192380909, 1029.1799715451307, 1008.628779036969, 980.2365492270785, 912.9305135427956, 879.323600700528, 872.8297633549256, 853.2836894935357, 848.018528157438, 843.1669034681206, 835.1845862150092, 818.1765851843057, 744.5403774915936, 744.4227430305002, 702.0698154854393, 699.8191947279225, 667.4247247842719, 596.6084827108651, 595.6120736098896, 809.4285691390739, 1027.8902175293617, 1291.8749940107114, 4290.01153223441, 1619.7581871181299, 1940.6725576079318, 3857.892939781544, 1738.267160733263, 2118.677587475309, 1601.235392233044, 1434.4718287175913, 1261.268389978575, 1372.9584192875789, 1145.7826294259219, 1563.775895197122, 1310.563974441967, 1305.576184343054, 1070.3981379276968, 1055.9016734094243, 2760.8322842894777, 1906.590280027998, 1633.5418891229954, 1622.425335974166, 1334.6165885867829, 1007.1194595781878, 982.9288006423395, 967.6091877341588, 863.798131653358, 843.4053379053664, 817.0003565741525, 718.6175631363384, 690.2458237254889, 630.6766881077045, 615.0620873455601, 586.1025442972366, 544.4086176240062, 520.6179299473716, 508.5417871017862, 500.051060267325, 459.7779779664297, 459.1364931591775, 453.98010133461435, 420.814938586762, 420.4755267204289, 415.42367871542876, 408.1210227030413, 397.38062561238274, 382.71441804096656, 377.96965942531364, 3080.7915013691913, 890.2458303701565, 1464.7300215278538, 2513.5546818592447, 1261.0219803233686, 1075.282443661009, 837.6906722583035, 896.2375384319606, 772.3885635424914, 1336.1544144678253, 1259.6333032801297, 2041.105775754727, 1220.4622881545442, 762.5011436904988, 743.735489291957, 964.0690231908148, 1111.6346284976487, 822.975256947924, 905.2777990911446, 954.696125456474, 2216.1603926472785, 1041.7038910416293, 954.3077797906008, 907.0608270618574, 770.5331749375471, 603.167966865298, 600.7478539577584, 493.20683119337986, 488.01576015499745, 461.2346767808961, 453.9008946622087, 444.8276771109354, 397.99085984711326, 390.5259506650282, 378.9515264563894, 358.8446117000332, 355.3848667192542, 347.6970517298647, 346.18261320127675, 336.7805324431624, 335.7370751930443, 328.2584208753755, 326.275576687416, 306.86481862178204, 299.30578458730474, 295.6886208273826, 285.7902361198621, 284.39159844597833, 275.0936390024989, 269.08726976421605, 1999.903048771988, 631.4559149177677, 731.361221601843, 975.7959914189911, 2565.4192385954875, 730.3173053304995, 844.2412732462674, 6289.586354419976, 1755.0900964674443, 1503.9788629264237, 681.6392264255836, 604.1429279481102, 586.4063477975137, 1219.5057627117526, 1164.0635470289074, 962.0647284767758, 1383.6406344112206, 773.143526641848, 952.5685993698067, 1262.4035403319097, 737.8894214699015, 2149.51153076208, 648.6818084538946, 720.5522407877871, 993.826549163296, 883.0571791181134, 1016.801173524344, 962.0151541844294, 863.1051585241604, 836.4809584044392, 821.1154268926197, 6542.469627076309, 5864.8478918336195, 2986.675253571302, 1806.5779923571051, 955.7382252195732, 926.6229357861398, 628.7824313530949, 561.6253429413291, 518.0938721115068, 490.0759800347124, 419.74185914876904, 403.60579206281125, 390.50390187306874, 389.6524368828065, 359.46662563742194, 353.05749192728723, 307.2193485385847, 282.8724669169162, 212.8002893601425, 175.45424627273775, 174.01507452865604, 172.94265079332968, 172.91469376280088, 171.61825328796397, 165.32821975990854, 141.51917223466444, 136.38252470953606, 135.5722431973271, 130.52499850170653, 123.40266838760202, 2301.1968096051055, 2662.109369380832, 681.6839949547566, 1304.350188797503, 8711.212813291988, 14422.605273112786, 877.7153118254986, 1234.649694305563, 354.1828338835833, 826.9864657089163, 334.9607780280246, 5404.939847450739, 6334.936919613264, 1557.9235634115332, 1556.8399891842619, 1051.0064372461352, 1266.1316228231194, 774.3120887190572, 1641.436944232889, 711.2217351331835, 1672.5310295523582, 709.229911693571, 644.4862024436463, 1003.2742765166199, 683.4061182012377, 971.9986010228668, 3428.3272599606994, 2209.2375389936674, 1429.721887911843, 1301.8377269285934, 1259.0825131245908, 1251.1808348269658, 1114.2908216384071, 973.2885024112245, 908.5516710263529, 833.7448159901144, 711.6421366090304, 589.5793934603322, 490.8567289714057, 434.92216110468996, 418.00400080855854, 410.51685133100295, 401.2894291995806, 400.63034890673504, 386.8137370861201, 384.26699096333107, 363.52826443563856, 352.57987547413114, 350.3588778737116, 347.37197221454596, 344.71515309304215, 337.84920078242067, 335.97405227904574, 310.6364997075802, 290.8121671971888, 276.81132218513306, 567.2137787395428, 1564.9751116357597, 411.4689960157333, 568.9662706883933, 566.3762437565427, 1456.2955761538924, 781.7300919873745, 464.7511158908581, 1498.7923634591075, 932.7456764062979, 735.397307037421, 521.4111919792466, 575.8251033555961, 1031.6547430943112, 531.8502118474239, 485.7515472647727, 503.083309171598, 489.62059330082184, 43298.3585696553, 1073.8241605891237, 914.7332751318044, 498.0240524107077, 426.01714962005934, 397.0445028413228, 326.9177165232129, 250.5728864359947, 229.54022601169174, 198.48275339366236, 197.53602126328482, 176.22822500988596, 141.57034233117525, 115.39821213735537, 106.26561129314881, 86.1263957201951, 82.12251370324542, 81.83963278108409, 81.03970035263004, 72.29434117746342, 66.5242793043187, 63.52753205469576, 23.64337353825569, 19.648835297663382, 17.085999908005697, 11.790916579085874, 3.702889311513024, 0.1357241412389025, 0.13569408984770617, 0.13568560698664694, 5.836381261303084, 944.0708121590648, 771.9968464357976, 741.7039619110597, 604.1312223361033, 564.5360763769702, 526.8006580309458, 417.654946953634, 401.5737202603436, 383.8001119153781, 382.64627023421866, 377.5199637684704, 375.5071600045932, 346.7059851232461, 345.6589433573293, 323.6431976459781, 320.5802208097685, 320.0093389172758, 301.73094161165886, 293.97503111760494, 267.1730388172278, 256.2254324268132, 245.57471861753586, 243.57274022726642, 240.42946774797392, 238.52165221491316, 217.0833417730528, 213.53109830942284, 205.9656159783795, 202.20697468901992, 198.66244765905668, 566.389496644299, 837.9146040495706, 634.4138182826189, 622.721609593075, 633.1256435562349, 1598.0446938296352, 335.9588941757949, 1535.2351604297755, 474.1460855353681, 630.6643919807105, 363.68952012663453, 382.50710603052454, 367.4816663946399, 559.8770055613619, 483.67317477039546, 431.0763077787605, 362.4613993840048, 521.78949417539, 500.8664178377242, 419.84820343294115, 2225.170556492373, 2128.286976214232, 1527.330059852779, 1489.5417371998033, 1041.9187342925, 726.8573393428676, 564.2112359134721, 514.177947901636, 404.4267195437256, 374.92974285850886, 319.8275134709911, 277.3698161390161, 274.14744022877767, 267.1187548516466, 212.5161630964741, 208.75879918753762, 205.17094494606158, 201.27706982523378, 199.2110165881764, 185.68656874021673, 183.37996092092746, 180.14302897748493, 178.53301697775757, 172.20798315253953, 153.0883395501228, 140.27290675793662, 136.12980079863215, 127.92518871148258, 125.34613210518714, 114.57815237757983, 561.8825574192065, 428.06525855774225, 286.39163117799006, 363.2431555379086, 1223.6520278236806, 312.83413543745456, 368.8773012294911, 518.7891271296579, 291.3829881796478, 256.7238541425657, 363.07803419178856, 362.3892971960649, 212.6802518963964, 251.2276967775741, 2461.4213094636466, 1029.3483640540471, 731.1470434141527, 655.6213033163364, 576.890493494845, 540.9339185253616, 470.416942651172, 416.1548406132774, 398.0888076507659, 375.19819409784964, 354.5009285359036, 342.42460800596126, 288.22159691275573, 263.084347569115, 224.7376233491079, 196.34955334662138, 186.16420324532922, 180.7317612825807, 170.14133480922968, 169.72714436929598, 162.5619338958302, 160.8943123088523, 160.61921675155784, 138.47375349565732, 138.23598106968643, 128.95184011322178, 128.19278393985806, 120.4680636086922, 120.24605117591571, 114.48901836784971, 335.9401834875577, 953.8412132835739, 709.4868651434974, 350.2458026117387, 309.86453430468345, 519.9177207863955, 374.47039303703946, 185.5435797700167, 304.22154172239067, 197.49681824462962, 213.33533449143016, 205.6384138732405, 194.61559290364573, 1823.8524244422736, 1391.2766465602162, 491.1176009251531, 470.024024137745, 374.5779453096045, 309.3077847059406, 214.82615729665594, 197.35984242515678, 189.58330840360716, 150.22014832401672, 141.99160073834116, 138.89049931540086, 137.59155751538142, 135.1077771796956, 130.86407923084565, 124.2572690795511, 120.44005560390207, 108.9398059317976, 101.71134394204486, 99.36859658157002, 94.51726158635165, 84.46632701995067, 79.73747323040205, 78.0929907594413, 77.04593713558313, 76.48888566924683, 70.9730811108718, 70.91036255326107, 64.60969097043841, 63.768227730111455, 540.9374628992024, 314.4713118692797, 311.0294301646181, 282.5280518867183, 471.6317983365982, 128.92419484543888, 213.53358273203716, 308.96782073645016, 128.5300191510592, 184.3238688495226, 219.92766191597062, 315.3711457304931, 292.7913651173071, 233.2105570522983, 204.00065412905658, 277.71234247580657, 195.16217523000591, 164.8286485956517, 139.2000964699035, 943.3453575585694, 564.5843464790355, 418.27513336087645, 386.7607134280689, 369.2151084654782, 352.9059179975631, 344.8390403937949, 296.6049982788936, 180.19498452709345, 177.81543429157554, 177.65603273815196, 170.41123993101806, 170.25750344747487, 167.9442189376221, 165.13663109414586, 151.2651617742591, 149.1796104749423, 133.95243536090305, 131.17544669074866, 130.48030623524153, 129.2527401639341, 128.69916148903914, 113.81445024389336, 108.7524764267291, 97.21364510657318, 94.19248023062218, 88.66756885664925, 77.72288123011901, 67.20555556101094, 61.84085782043297, 1490.7604364236743, 530.3552666380375, 171.59947534515126, 162.1382499338721, 165.48673501141016, 201.07187146510836, 672.5694409023645, 652.8732943318951, 422.96118668406905, 409.1105744258037, 334.4858367970762, 333.492257892972, 330.81086134963806, 313.3326848221312, 288.7931107642654, 219.54911038868613, 198.78727829887865, 186.50587959220218, 174.67911296767164, 169.77173876535736, 139.94047569776046, 139.03367346295744, 137.69519600397362, 131.06909044987947, 122.12492599778054, 117.12245025119267, 113.29444177434493, 103.1692491373218, 95.850909924696, 92.27299033669264, 90.87356108732372, 77.99768889642996, 74.49516272643159, 71.25205920372612, 70.52360726292109, 65.50597288347562, 1284.912472293734, 339.9595689950385, 181.0820205019254, 132.87543603460102, 209.8687021158537, 356.0747756722554, 113.04881989158334, 136.9074927807809, 105.50651489244666, 595.4864818509319, 466.1406341906112, 409.41433991203576, 394.9755127306019, 200.9145408326978, 192.63126018077187, 175.4133861605657, 142.56143791496442, 142.44419659574643, 128.28405558721613, 119.29597962510934, 119.01110441842233, 114.3251165637581, 108.30738158186293, 105.21705059689238, 90.38106530268624, 84.27140205992096, 75.62260910947384, 61.46972606799289, 61.36157068153533, 60.19336585267569, 58.752641428114664, 58.74533405658664, 58.67522461002701, 58.67522461002701, 55.561044735803954, 53.76786426904134, 35.30269334092906, 33.32718789126522, 32.04075589927218, 159.6395242084107, 66.92505393857202, 67.00602338780821, 86.34896817990004, 78.06853502247243, 78.27417442799319, 64.96164360355169, 62.12946000230361, 63.47683241874535, 833.8566283198078, 417.79297223545996, 416.61882168670087, 375.64567436835955, 328.2729890378357, 274.9759878519655, 154.4527553861348, 141.9278893921114, 134.6332505995869, 126.35990643219279, 88.87457403361671, 85.2720849054608, 69.05457398889784, 67.99729183029939, 49.67424722179574, 44.46536000528273, 40.06945788364245, 36.06815741151786, 34.583100709586795, 27.34529122490512, 27.169139177864633, 19.66680854262866, 17.690889869659582, 11.248917949318134, 11.050232439136154, 10.765374358119399, 8.137612866738632, 8.065634301046677, 2.17065641914685, 103.56599391460433, 97.62784844501617, 47.60313397273548, 24.374235890154583, 269.8114333162071, 250.68597803875105, 214.96660455301435, 164.94256192571748, 131.70128891231562, 114.11522596059622, 99.67931748437285, 75.05006638153549, 73.49506141347223, 72.67585549378217, 72.17887935687249, 71.96163630593517, 69.35915564260846, 67.45854928714958, 55.547977814101934, 50.755362315447464, 45.27042716187575, 41.241958944615625, 34.951918976266086, 34.82166628482375, 32.72598280502695, 30.218018615683764, 19.745130365309358, 18.673681213065933, 13.022076366770708, 11.800277587319673, 9.285179967489816, 5.588348682799159, 4.414411965991044, 3.383382873236553, 36.004900140701835, 434.0969916030488, 225.92993175940734, 182.01380086764843, 142.9632375356556, 100.80614507405551, 81.25508198101882, 69.69667240706129, 59.485848410227774, 36.78649103479998, 31.79498601107772, 28.549979751393735, 27.640175582273887, 23.449068117387956, 23.159085571084802, 19.11216212846085, 15.847792916488578, 14.288100389165397, 11.266980143102005, 10.413109526317081, 9.736598492350128, 9.734412352575644, 9.734412352575644, 8.266486303706506, 8.031756562416094, 5.613586316511998, 5.339612796665893, 0.035931831154351446, 0.035931831154351446, 0.035931967046855515, 0.0359319454275935, 175.7144828259444, 164.74455274736312, 121.93792776244622, 101.39311594380892, 100.51256150764038, 53.11084408015044, 38.23535839819617, 23.140874819045315, 15.156828410512162, 13.586950725221687, 10.195837387043648, 3.936328711229128, 2.7597061536199115, 47.92467043579598, 0.03286954957530855, 0.03286980858628493, 0.032865565848963926, 0.03286494468104713, 0.03286487362493856, 0.03286484611934815, 0.03286497906303514, 0.03286443582762451, 0.032865827152072834, 0.0328648690406735, 0.032864493130937866, 0.03286386508662347, 0.03286528391666221, 0.03286397740111765, 0.03286385133382826, 0.032863766524924495, 0.03286405304149128, 0.03286411263693717, 0.03286469713073342, 0.032864385400708754, 0.03286424558062417, 76.44876080696429, 59.02604412730732, 36.969864751262044, 237.8385511376019, 16.441574199779012, 15.526341375318554, 14.670922648132617, 7.661670309629459, 7.4335888375084185, 5.337055842380708, 0.025581901827084242, 0.02556377825837639, 0.025554711676042747, 0.02554911723169576, 0.02554884534617861, 0.02554844071655603, 0.0255483639488806, 0.025548184824304595, 0.025549589033034344, 0.025548738191298322, 0.02554791933609373, 0.02554791933609373, 0.0255477865919883, 0.0255477865919883, 0.025547834571785444, 0.0255477865919883, 0.02554765544720944, 0.02554766504316887, 0.0255477753967023, 0.025547639453943727, 0.02554806007683202, 0.025547789790641443, 0.02554772901623173, 0.025547936928686017, 135.50857208972738, 113.97063211854304, 58.37783670639058, 28.163406198399592, 22.63125210295798, 17.1490151882494, 15.42712542777131, 13.848563967647314, 5.756154085757518, 3.6293017696911427, 0.02094088791134834, 0.020938238995305822, 0.020936670155135843, 0.02093670078614086, 0.02093675805280241, 0.020935985618762865, 0.020936289265247376, 0.020935715266849023, 0.020936201367580808, 0.020935784519556015, 0.020935998936591132, 0.02093586709009128, 0.02093574057072273, 0.020935559448258288, 0.020935383652925146, 0.02093541162036451, 0.020935342367657518, 0.020935739238939904, 0.020935363676182747, 0.020935438256021045, 0.020935534144384576, 0.02093592968388414, 0.020935576761435034, 0.020935542135081538, 0.020935464891677583, 0.020935610056005704, 0.020936085502474874, 0.020935551457561326], \"Total\": [43299.0, 17046.0, 9996.0, 13715.0, 9744.0, 6543.0, 8076.0, 5865.0, 4779.0, 3429.0, 8939.0, 2462.0, 2226.0, 5364.0, 6469.0, 2129.0, 4052.0, 1825.0, 6779.0, 3160.0, 5682.0, 2987.0, 2896.0, 10701.0, 7955.0, 1563.0, 3273.0, 2761.0, 3365.0, 7615.0, 4451.828412275383, 3846.464568370653, 3154.2348961320736, 2977.7657723499256, 2781.3781420383484, 2777.0836688543486, 2653.671410094597, 2312.818530516071, 2153.11707946553, 2098.2322371321666, 2043.7470283758805, 2043.1590222707794, 2013.125620524205, 1751.8715782970828, 1507.4195415831034, 1318.2507219109061, 1266.9234424002707, 1216.9179749787588, 1157.8542609194776, 1147.8343530708937, 967.2708162054047, 958.9151327267734, 923.9744320663858, 906.2096209163774, 896.2697656700742, 887.0526726963997, 864.6699307659343, 829.5293561020195, 811.7696949363869, 772.6512097000669, 6519.436869816707, 7955.9053509129435, 2505.915460397768, 2256.898991363607, 6208.10328623277, 2203.381878452317, 6779.255906125466, 10701.813102523336, 2002.233415287601, 1581.4653800341785, 8430.417261154696, 6325.036840303289, 2165.9918344475504, 7615.162308042965, 4800.779878266181, 8682.078955983516, 4333.017754940341, 4341.219811637011, 4861.784447958864, 4675.778830833937, 4267.275611326868, 2994.464426135449, 3441.8022035018284, 4153.771733280259, 4959.222435798178, 13715.620372425403, 5682.924390015342, 3136.747610250864, 4923.426453202102, 8939.634717992985, 9744.739766924698, 6172.163554622371, 4134.34781735838, 4052.6059220889783, 2900.3165672361183, 2758.6298244720897, 2176.744106222609, 1744.5381959404006, 1527.1212483028855, 1398.902947158009, 1339.5020658572735, 1318.066205867606, 1268.7898935906562, 1237.6782100320165, 1157.523852383388, 1121.5182194431723, 1030.318971750212, 1009.7677792504417, 981.3755494321598, 914.0695137732853, 880.4626009056093, 873.9687635600069, 854.422689698617, 849.1575283769804, 844.3059036732019, 836.3235864200905, 819.3155854282234, 745.6793776966749, 745.5617432355815, 703.2088156905206, 700.9581949447775, 668.5637250020105, 597.7474829477146, 596.7510738435756, 818.6758620922416, 1049.9526145008426, 1392.4628904721742, 5364.14808979096, 1943.138577741117, 2555.192948001948, 6469.9747400417, 2400.8788333206994, 3365.955100537362, 2324.9468098953816, 2171.1306525527934, 1989.3708564466813, 2568.6931612372427, 1851.588142242657, 6172.163554622371, 4285.354470076964, 4923.426453202102, 2383.0185949170204, 3215.5551553656337, 2761.9908530582034, 1907.7488487967248, 1634.7004578917222, 1623.5839047428929, 1335.7751573555097, 1008.2780283469145, 984.0873694110662, 968.7677565028855, 864.9567004653193, 844.5639066740931, 818.1589253428792, 719.7761319050651, 691.4043924942156, 631.8352568764312, 616.2206561142868, 587.2611130659633, 545.5671864107343, 521.7764987219771, 509.70035587890425, 501.2096290419304, 460.93654673515636, 460.29506192790416, 455.138670103341, 421.97350735548866, 421.63409550703835, 416.5822474841554, 409.27959147176796, 398.5391943898815, 383.8729869744537, 379.1282281940403, 3160.864073782925, 911.2194574046796, 1650.4295750890647, 3273.008233502307, 1542.5913086492835, 1301.6411692689644, 974.2321286877827, 1064.8188318188784, 971.9311697516416, 2159.1972261425412, 2880.6855172797354, 8939.634717992985, 3481.6433379205723, 1258.638620364299, 1298.4184897976281, 3762.2210886529865, 8076.013221326973, 2084.4507961991785, 4019.9903701973103, 7615.162308042965, 2217.306739801923, 1042.8502381899614, 955.4541269550762, 908.2071742101896, 771.6795220922236, 604.3143140136302, 601.8942011148627, 494.35317834171195, 489.16210730332955, 462.3810239355412, 455.0472418105408, 445.9740242592675, 399.13720699544535, 391.67229790858204, 380.0978736047215, 359.9909588483653, 356.5312139258983, 348.8433988781968, 347.32896034960885, 337.92687959780744, 336.88342234725513, 329.40476803071, 327.4219238357481, 308.011165784598, 300.45213173563684, 296.8349679757147, 286.93658326819417, 285.537945599771, 276.2400032159491, 270.2336169195505, 2012.70153159032, 636.0762641481309, 754.3985297752857, 1031.1725079675691, 2891.2775886756167, 779.6975643924022, 913.0626842862094, 8076.013221326973, 2029.4988272357964, 1793.1070038288442, 781.7511081491668, 689.9842078086357, 666.5264948520285, 1685.9033750686654, 1613.9764545634252, 1278.5186496615083, 2109.819546583472, 973.411674426085, 1459.3733123800969, 2604.297991370124, 1062.2176157149647, 8939.634717992985, 880.7422125054882, 1136.5165725461193, 2730.828527173409, 2136.0585433091787, 4959.222435798178, 4019.9903701973103, 3240.120993504357, 3983.655745409026, 6172.163554622371, 6543.620839466863, 5865.999104224174, 2987.826465961854, 1807.7292047476574, 956.8894376164699, 927.7741481766922, 629.9336437436473, 562.7765553373421, 519.2450845051476, 491.2271924252647, 420.89307153932134, 404.75700445336355, 391.65511426362104, 390.8036492797032, 360.61783804197904, 354.2087043436942, 308.3705609372216, 284.02367933181193, 213.95150175886567, 176.605458675753, 175.16628691920832, 174.09386319088438, 174.06590616056369, 172.7694657262594, 166.4794322396755, 142.6703846252167, 137.53373713934292, 136.72345560041825, 131.67621090482908, 124.55388077815431, 2338.122921302386, 2787.4506052267343, 704.0605339689117, 1409.7580800614164, 9996.745026617557, 17046.23052389418, 979.2554735880904, 1464.4395078351636, 383.11159183705706, 1025.5729414542955, 371.4155146096381, 9744.739766924698, 13715.620372425403, 2550.0124256563154, 2876.2641633470266, 1912.8602381586252, 2730.828527173409, 1289.9385029207092, 4726.461688018704, 1156.0754093837238, 5682.924390015342, 1288.552271620456, 1070.6015443453223, 4134.34781735838, 1324.0926039944975, 8682.078955983516, 3429.4759770310006, 2210.3862560639686, 1430.8706049821449, 1302.9864439988953, 1260.2312301948928, 1252.3295518972677, 1115.4395387150219, 974.4372194815263, 909.7003880966547, 834.8935330735234, 712.7908536793323, 590.728110530634, 492.0054460612313, 436.07087820884067, 419.15271788586267, 411.66556841007684, 402.43814626988234, 401.7790659770368, 387.962454165194, 385.4157080336328, 364.6769815059403, 353.7285925574877, 351.50759494401336, 348.5206892848477, 345.8638701633439, 338.99791788140453, 337.1227693673783, 311.78521678422635, 291.96088426749054, 277.9600392554348, 577.5866656927077, 1729.776121719708, 423.4511579429731, 609.0108531603393, 606.5341989216064, 1829.2668279642892, 914.6633323889022, 495.92459135909183, 2179.5945237158194, 1298.76720027907, 960.2798723280973, 632.4079957168626, 887.5659716189615, 4068.0175998757745, 1187.1243694568846, 926.5132178085137, 1553.1082609897112, 2025.0438488689256, 43299.44203321983, 1074.9076243076954, 915.8167389463961, 499.1075166254362, 427.100613309395, 398.12796667721534, 328.0011807063518, 251.65635040103234, 230.62368980866006, 199.56621704688527, 198.61948495480829, 177.31168881732597, 142.65380603366222, 116.48167585255828, 107.34907490235649, 87.20985935084087, 83.2059774252289, 82.92309666254953, 82.12316423318345, 73.37780485821266, 67.60774295853057, 64.61099570820099, 24.72683714489274, 20.73229902131059, 18.169463920043963, 12.874380462531013, 4.786352893212889, 1.219197445071455, 1.2191590896764737, 1.2191560284675367, 2243.20841413643, 945.2186422222163, 773.1446764989491, 742.8517919742112, 605.2790524117937, 565.6839064401217, 527.9484880940973, 418.80277701678546, 402.7215503356868, 384.94794197852957, 383.7941002973701, 378.66779384001325, 376.6549900677446, 347.85381533387925, 346.80677342048074, 324.79102770912954, 321.72805087291994, 321.15716898042723, 302.8787716881571, 295.1228611891478, 268.32086888877063, 257.37326248996465, 246.72254874150684, 244.72057029919003, 241.57729781812785, 239.66948227806466, 218.2311718480649, 214.67892838134645, 207.113446041531, 203.35480477776505, 199.8102777479285, 608.6143620765612, 929.3932798099155, 689.6210460573143, 688.7626270737454, 724.9561858247466, 2119.0486897893784, 372.32720673784723, 2896.4959280671583, 647.2344923463992, 1037.5873055334873, 446.78673045826895, 510.56384463260304, 483.74312783650043, 1449.8677407172008, 1178.9186830181063, 1206.0581489506258, 566.0668918916899, 4779.174544305263, 4052.6059220889783, 1448.7854952336158, 2226.3236089739876, 2129.440028695846, 1528.4831123398544, 1490.6947896814181, 1043.0717867741148, 728.0103918244823, 565.3642883950869, 515.3310003832507, 405.5797720462705, 376.0827953471085, 320.980565983747, 278.52286862063073, 275.30049275888496, 268.2718073332612, 213.6692155780888, 209.911851690378, 206.32399743535242, 202.4301223068485, 200.3640690697911, 186.83962124056671, 184.53301340254217, 181.2960815003844, 179.68606945937228, 173.36103566180958, 154.24139203173752, 141.42595928500236, 137.28285328024685, 129.07824119944166, 126.4991845868018, 115.73120485919449, 616.5135642562981, 630.2032771736052, 373.4440278895442, 590.1796211048661, 4779.174544305263, 684.1525360485215, 1313.5346137967274, 3365.955100537362, 712.7770095291644, 500.05240330714685, 2270.6782205845248, 3983.655745409026, 313.9941932994778, 1746.390466010637, 2462.57888586669, 1030.5059405162435, 732.304619817197, 656.7788797193807, 578.0480698978894, 542.0914949378223, 471.57451905421624, 417.3124170163216, 399.2463840538101, 376.35577050089387, 355.6585049584717, 343.58218447003867, 289.37917331579996, 264.2419240269681, 225.89519978699394, 197.50712974966567, 187.32177966453415, 181.88933770139948, 171.29891121861834, 170.88472078073164, 163.7195102988745, 162.05188871820957, 161.77679316337424, 139.6313298987016, 139.39355747273072, 130.10941653126406, 129.35036039364772, 121.62564014180889, 121.40362759149883, 115.64659480500569, 369.219975263318, 1559.8394493508179, 1558.544664862299, 579.9530987510609, 673.7869306205748, 2119.0486897893784, 1288.552271620456, 299.6134561502124, 5364.14808979096, 1025.5729414542955, 2400.8788333206994, 1918.600395224991, 2324.9468098953816, 1825.0079840355675, 1392.4322061535102, 492.2731605184468, 471.1795837634141, 375.7335049452777, 310.46334432499526, 215.98171692188768, 198.51540202545291, 190.7388679969009, 151.37570796719262, 143.1471603487819, 140.04605892135194, 138.7471171278693, 136.26333677298933, 132.01963884287468, 125.41282870402571, 121.59561519719577, 110.09536556109212, 102.8669035940478, 100.52415617486372, 95.67282117964535, 85.62188665729333, 80.89303285199173, 79.24855035273501, 78.20149672887683, 77.64444526254053, 72.12864071004428, 72.06592217390244, 65.76525058330475, 64.92378736176776, 556.2889923096785, 329.31672181799274, 330.19880024674757, 312.39286025476923, 559.0678699292198, 137.56677275982776, 270.7876035999296, 528.4512051813356, 164.66533330636062, 289.26621154488197, 524.8241824242144, 1278.5186496615083, 1448.7854952336158, 822.9219813611832, 673.7869306205748, 4052.6059220889783, 2896.4959280671583, 1685.9033750686654, 302.4366992849983, 944.5072821188872, 565.7462710788791, 419.4370579148812, 387.9226379820737, 370.37703301948295, 354.0678425515679, 346.0009649477997, 297.7669228328984, 181.35690908109828, 178.97735884866884, 178.8179572921568, 171.5731644850229, 171.41942804731147, 169.10614354314774, 166.29855564815068, 152.42708636530028, 150.34153503514358, 135.11435991490788, 132.3373712856423, 131.64223078924636, 130.41466480572072, 129.86108604304397, 114.97637479789815, 109.91440098704688, 98.37556966057797, 95.35440482598634, 89.8294934228458, 78.88480580177612, 68.36748011501572, 63.00278237443776, 1563.7674148818135, 846.8177794615352, 235.63577121435435, 302.4366992849983, 469.02830999158715, 1070.6015443453223, 673.7261661133248, 654.0300195428554, 424.11791190680276, 410.26729966954935, 335.64256201642775, 334.64898311000195, 331.9675865605982, 314.48941003309136, 289.9498359839977, 220.70583560841845, 199.94400353740699, 187.6626048170143, 175.83583821261686, 170.9284640020297, 141.0972009229908, 140.19039872806084, 138.85192121493384, 132.2258156608397, 123.28165120874071, 118.27917550814992, 114.45116698530511, 104.32597434828197, 97.00763516068939, 93.42971558645972, 92.03028631716714, 79.1544141261801, 75.65188793739176, 72.4087844146863, 71.68033248088366, 66.6626980944358, 1443.0306893859072, 387.931176238208, 204.2692759586833, 163.80884508267982, 345.0360070033041, 907.9277938950501, 140.45893264144462, 1449.8677407172008, 227.47004301292873, 596.6371569577465, 467.2913092974257, 410.56501501885026, 396.1261878374164, 202.06521593951237, 193.78193528758644, 176.56406129241347, 143.71211302177898, 143.594871702561, 129.4347306940307, 120.44665474992328, 120.16177952523685, 115.47579167057262, 109.45805670398906, 106.3677257037069, 91.53174040950076, 85.42207718211188, 76.77328428642707, 62.62040118112038, 62.512245788349844, 61.34404118686906, 59.903316534929175, 59.89600916340115, 59.82589971684152, 59.82589971684152, 56.71171987906889, 54.91853937585585, 36.45336855879275, 34.47786299807973, 33.191431038180816, 172.8064048066948, 75.29299595780478, 112.05027294579342, 559.0678699292198, 587.3449762857238, 948.0370109679209, 688.7626270737454, 377.5472792460251, 1226.7799447050277, 835.02435516823, 418.96069908388216, 417.78654854734623, 376.8134012468564, 329.4407158862579, 276.14371470737274, 155.62048223455707, 143.09561624053367, 135.80097744800915, 127.52763329283816, 90.0423008879177, 86.4398117593436, 70.22230083961219, 69.16501867872161, 50.841974126087166, 45.63308691877423, 41.23718473206466, 37.235884274180734, 35.75082755800901, 28.513018074659122, 28.336866055136756, 20.834535396929645, 18.858616718081798, 12.416644797740354, 12.217959325733483, 11.933101206541618, 9.305339715160851, 9.233361149468896, 3.338383267569069, 165.4372747828306, 381.7164577068704, 320.36953978418734, 411.019269055855, 270.98985844930417, 251.8644031707245, 216.14502967910903, 166.12098705815654, 132.87971404475468, 115.2936510866909, 100.85774264996724, 76.22849151397453, 74.67348654502747, 73.85428081992464, 73.35730448296717, 73.14006143202985, 70.53758080076786, 68.63697441457604, 56.72640294019659, 51.93378744154212, 46.44885229431478, 42.42038409374602, 36.13034425964973, 36.00009141091841, 33.90440798766345, 31.39644374784819, 20.92355549140402, 19.8521063531654, 14.20050149920975, 12.978702732447465, 10.463605107589286, 6.766773815896227, 5.59283709208571, 4.561807999331219, 323.6074313986001, 435.2802026310469, 227.11314278740545, 183.19701189564654, 144.14644856498546, 101.98935611493478, 82.43829302131255, 70.87988344140375, 60.669059556728314, 37.969702106667725, 32.978197081107204, 29.73319078778319, 28.823386610271978, 24.63227915871544, 24.34229660496166, 20.29537324282115, 17.031003990403317, 15.471311423507863, 12.450191177444472, 11.596320554315172, 10.919809520348219, 10.917623380573735, 10.917623380573735, 9.449697331704597, 9.214967609003578, 6.796797344510088, 6.52282385257923, 1.2191585606960695, 1.219158774636892, 1.219167210051461, 1.219169416291528, 176.90075190862476, 165.93082183592222, 123.12419684512655, 102.57938503236802, 101.69883059619949, 54.297113171222136, 39.421627486337066, 24.327143908070024, 16.343097532213136, 14.773219859962207, 11.38210646972398, 5.122597800911863, 3.945975236300244, 483.74312783650043, 1.2192383648644416, 1.219300315493917, 1.2191550461175782, 1.2191472514480475, 1.2191501694899856, 1.2191538465217613, 1.2191689784457405, 1.2191530986462298, 1.219206488356222, 1.2191710948114856, 1.2191604935816904, 1.2191386457016091, 1.2191936222067061, 1.2191463910257565, 1.219148404404522, 1.219145944505751, 1.2191589513272663, 1.2191684146884605, 1.2192141222043495, 1.2191992940809122, 1.219183385271395, 77.6423457724105, 60.2196291253152, 38.16344970970585, 248.13402629109672, 17.63515916456719, 16.71992633376236, 15.864507606576423, 8.855255268073265, 8.627173795952224, 6.530640814829317, 1.219405968846852, 1.2192095171783692, 1.2191757862521524, 1.2191429540870817, 1.2191417847112385, 1.2191456313699764, 1.219145520134234, 1.2191388978933204, 1.2192067381216305, 1.2191680595341434, 1.2191378040283603, 1.2191378040283603, 1.219137260671725, 1.219137260671725, 1.2191406784243346, 1.2191422454728453, 1.2191367105689697, 1.2191382756854368, 1.2191445028008672, 1.2191387998990286, 1.2191634272437524, 1.2191521247260069, 1.2191456411830526, 1.219177790482908, 136.7067687993232, 115.16882882813886, 59.57603342852526, 29.361602935270014, 23.829448840791272, 18.34721191050258, 16.625322164897803, 15.046760705175762, 6.9543507953533386, 4.827498479286963, 1.2192487099707316, 1.219198963218703, 1.2191370146253901, 1.2191615763938892, 1.2191685248041537, 1.219135864737531, 1.2191631120984263, 1.2191380516163506, 1.2191665656322574, 1.2191478143268146, 1.2191609654067725, 1.2191538656235736, 1.2191511420559242, 1.2191429295922875, 1.2191338450543074, 1.2191365634982532, 1.2191346358026272, 1.2191586262288008, 1.2191368707668975, 1.219141454757853, 1.2191475729344279, 1.2191764600107293, 1.2191548650106807, 1.2191521850475426, 1.2191461511593087, 1.2191808347209778, 1.219405968846852, 1.2191824936926876], \"Category\": [\"Default\", \"Default\", \"Default\", \"Default\", \"Default\", \"Default\", \"Default\", \"Default\", \"Default\", \"Default\", \"Default\", \"Default\", \"Default\", \"Default\", \"Default\", \"Default\", \"Default\", \"Default\", \"Default\", \"Default\", \"Default\", \"Default\", \"Default\", \"Default\", \"Default\", \"Default\", \"Default\", \"Default\", \"Default\", \"Default\", \"Topic1\", \"Topic1\", \"Topic1\", \"Topic1\", \"Topic1\", \"Topic1\", \"Topic1\", \"Topic1\", \"Topic1\", \"Topic1\", \"Topic1\", \"Topic1\", \"Topic1\", \"Topic1\", \"Topic1\", \"Topic1\", \"Topic1\", \"Topic1\", \"Topic1\", \"Topic1\", \"Topic1\", \"Topic1\", \"Topic1\", \"Topic1\", \"Topic1\", \"Topic1\", \"Topic1\", \"Topic1\", \"Topic1\", \"Topic1\", \"Topic1\", \"Topic1\", \"Topic1\", \"Topic1\", \"Topic1\", \"Topic1\", \"Topic1\", \"Topic1\", \"Topic1\", \"Topic1\", \"Topic1\", \"Topic1\", \"Topic1\", \"Topic1\", \"Topic1\", \"Topic1\", \"Topic1\", \"Topic1\", \"Topic1\", \"Topic1\", \"Topic1\", \"Topic1\", \"Topic1\", \"Topic1\", \"Topic1\", \"Topic1\", \"Topic1\", \"Topic1\", \"Topic1\", \"Topic1\", \"Topic1\", \"Topic1\", \"Topic1\", \"Topic1\", \"Topic2\", \"Topic2\", \"Topic2\", \"Topic2\", \"Topic2\", \"Topic2\", \"Topic2\", \"Topic2\", \"Topic2\", \"Topic2\", \"Topic2\", \"Topic2\", \"Topic2\", \"Topic2\", \"Topic2\", \"Topic2\", \"Topic2\", \"Topic2\", \"Topic2\", \"Topic2\", \"Topic2\", \"Topic2\", \"Topic2\", \"Topic2\", \"Topic2\", \"Topic2\", \"Topic2\", \"Topic2\", \"Topic2\", \"Topic2\", \"Topic2\", \"Topic2\", \"Topic2\", \"Topic2\", \"Topic2\", \"Topic2\", \"Topic2\", \"Topic2\", \"Topic2\", \"Topic2\", \"Topic2\", \"Topic2\", \"Topic2\", \"Topic2\", \"Topic2\", \"Topic2\", \"Topic2\", \"Topic2\", \"Topic2\", \"Topic3\", \"Topic3\", \"Topic3\", \"Topic3\", \"Topic3\", \"Topic3\", \"Topic3\", \"Topic3\", \"Topic3\", \"Topic3\", \"Topic3\", \"Topic3\", \"Topic3\", \"Topic3\", \"Topic3\", \"Topic3\", \"Topic3\", \"Topic3\", \"Topic3\", \"Topic3\", \"Topic3\", \"Topic3\", \"Topic3\", \"Topic3\", \"Topic3\", \"Topic3\", \"Topic3\", \"Topic3\", \"Topic3\", \"Topic3\", \"Topic3\", \"Topic3\", \"Topic3\", \"Topic3\", \"Topic3\", \"Topic3\", \"Topic3\", \"Topic3\", \"Topic3\", \"Topic3\", \"Topic3\", \"Topic3\", \"Topic3\", \"Topic3\", \"Topic3\", \"Topic3\", \"Topic3\", \"Topic3\", \"Topic3\", \"Topic3\", \"Topic4\", \"Topic4\", \"Topic4\", \"Topic4\", \"Topic4\", \"Topic4\", \"Topic4\", \"Topic4\", \"Topic4\", \"Topic4\", \"Topic4\", \"Topic4\", \"Topic4\", \"Topic4\", \"Topic4\", \"Topic4\", \"Topic4\", \"Topic4\", \"Topic4\", \"Topic4\", \"Topic4\", \"Topic4\", \"Topic4\", \"Topic4\", \"Topic4\", \"Topic4\", \"Topic4\", \"Topic4\", \"Topic4\", \"Topic4\", \"Topic4\", \"Topic4\", \"Topic4\", \"Topic4\", \"Topic4\", \"Topic4\", \"Topic4\", \"Topic4\", \"Topic4\", \"Topic4\", \"Topic4\", \"Topic4\", \"Topic4\", \"Topic4\", \"Topic4\", \"Topic4\", \"Topic4\", \"Topic4\", \"Topic4\", \"Topic4\", \"Topic4\", \"Topic4\", \"Topic4\", \"Topic4\", \"Topic4\", \"Topic4\", \"Topic4\", \"Topic4\", \"Topic4\", \"Topic4\", \"Topic4\", \"Topic5\", \"Topic5\", \"Topic5\", \"Topic5\", \"Topic5\", \"Topic5\", \"Topic5\", \"Topic5\", \"Topic5\", \"Topic5\", \"Topic5\", \"Topic5\", \"Topic5\", \"Topic5\", \"Topic5\", \"Topic5\", \"Topic5\", \"Topic5\", \"Topic5\", \"Topic5\", \"Topic5\", \"Topic5\", \"Topic5\", \"Topic5\", \"Topic5\", \"Topic5\", \"Topic5\", \"Topic5\", \"Topic5\", \"Topic5\", \"Topic5\", \"Topic5\", \"Topic5\", \"Topic5\", \"Topic5\", \"Topic5\", \"Topic5\", \"Topic5\", \"Topic5\", \"Topic5\", \"Topic5\", \"Topic5\", \"Topic5\", \"Topic5\", \"Topic5\", \"Topic5\", \"Topic5\", \"Topic5\", \"Topic5\", \"Topic5\", \"Topic5\", \"Topic5\", \"Topic5\", \"Topic5\", \"Topic5\", \"Topic5\", \"Topic6\", \"Topic6\", \"Topic6\", \"Topic6\", \"Topic6\", \"Topic6\", \"Topic6\", \"Topic6\", \"Topic6\", \"Topic6\", \"Topic6\", \"Topic6\", \"Topic6\", \"Topic6\", \"Topic6\", \"Topic6\", \"Topic6\", \"Topic6\", \"Topic6\", \"Topic6\", \"Topic6\", \"Topic6\", \"Topic6\", \"Topic6\", \"Topic6\", \"Topic6\", \"Topic6\", \"Topic6\", \"Topic6\", \"Topic6\", \"Topic6\", \"Topic6\", \"Topic6\", \"Topic6\", \"Topic6\", \"Topic6\", \"Topic6\", \"Topic6\", \"Topic6\", \"Topic6\", \"Topic6\", \"Topic6\", \"Topic6\", \"Topic6\", \"Topic6\", \"Topic6\", \"Topic6\", \"Topic6\", \"Topic7\", \"Topic7\", \"Topic7\", \"Topic7\", \"Topic7\", \"Topic7\", \"Topic7\", \"Topic7\", \"Topic7\", \"Topic7\", \"Topic7\", \"Topic7\", \"Topic7\", \"Topic7\", \"Topic7\", \"Topic7\", \"Topic7\", \"Topic7\", \"Topic7\", \"Topic7\", \"Topic7\", \"Topic7\", \"Topic7\", \"Topic7\", \"Topic7\", \"Topic7\", \"Topic7\", \"Topic7\", \"Topic7\", \"Topic7\", \"Topic7\", \"Topic8\", \"Topic8\", \"Topic8\", \"Topic8\", \"Topic8\", \"Topic8\", \"Topic8\", \"Topic8\", \"Topic8\", \"Topic8\", \"Topic8\", \"Topic8\", \"Topic8\", \"Topic8\", \"Topic8\", \"Topic8\", \"Topic8\", \"Topic8\", \"Topic8\", \"Topic8\", \"Topic8\", \"Topic8\", \"Topic8\", \"Topic8\", \"Topic8\", \"Topic8\", \"Topic8\", \"Topic8\", \"Topic8\", \"Topic8\", \"Topic8\", \"Topic8\", \"Topic8\", \"Topic8\", \"Topic8\", \"Topic8\", \"Topic8\", \"Topic8\", \"Topic8\", \"Topic8\", \"Topic8\", \"Topic8\", \"Topic8\", \"Topic8\", \"Topic8\", \"Topic8\", \"Topic8\", \"Topic8\", \"Topic8\", \"Topic8\", \"Topic9\", \"Topic9\", \"Topic9\", \"Topic9\", \"Topic9\", \"Topic9\", \"Topic9\", \"Topic9\", \"Topic9\", \"Topic9\", \"Topic9\", \"Topic9\", \"Topic9\", \"Topic9\", \"Topic9\", \"Topic9\", \"Topic9\", \"Topic9\", \"Topic9\", \"Topic9\", \"Topic9\", \"Topic9\", \"Topic9\", \"Topic9\", \"Topic9\", \"Topic9\", \"Topic9\", \"Topic9\", \"Topic9\", \"Topic9\", \"Topic9\", \"Topic9\", \"Topic9\", \"Topic9\", \"Topic9\", \"Topic9\", \"Topic9\", \"Topic9\", \"Topic9\", \"Topic9\", \"Topic9\", \"Topic9\", \"Topic9\", \"Topic9\", \"Topic10\", \"Topic10\", \"Topic10\", \"Topic10\", \"Topic10\", \"Topic10\", \"Topic10\", \"Topic10\", \"Topic10\", \"Topic10\", \"Topic10\", \"Topic10\", \"Topic10\", \"Topic10\", \"Topic10\", \"Topic10\", \"Topic10\", \"Topic10\", \"Topic10\", \"Topic10\", \"Topic10\", \"Topic10\", \"Topic10\", \"Topic10\", \"Topic10\", \"Topic10\", \"Topic10\", \"Topic10\", \"Topic10\", \"Topic10\", \"Topic10\", \"Topic10\", \"Topic10\", \"Topic10\", \"Topic10\", \"Topic10\", \"Topic10\", \"Topic10\", \"Topic10\", \"Topic10\", \"Topic10\", \"Topic10\", \"Topic10\", \"Topic11\", \"Topic11\", \"Topic11\", \"Topic11\", \"Topic11\", \"Topic11\", \"Topic11\", \"Topic11\", \"Topic11\", \"Topic11\", \"Topic11\", \"Topic11\", \"Topic11\", \"Topic11\", \"Topic11\", \"Topic11\", \"Topic11\", \"Topic11\", \"Topic11\", \"Topic11\", \"Topic11\", \"Topic11\", \"Topic11\", \"Topic11\", \"Topic11\", \"Topic11\", \"Topic11\", \"Topic11\", \"Topic11\", \"Topic11\", \"Topic11\", \"Topic11\", \"Topic11\", \"Topic11\", \"Topic11\", \"Topic11\", \"Topic11\", \"Topic11\", \"Topic11\", \"Topic11\", \"Topic11\", \"Topic11\", \"Topic11\", \"Topic11\", \"Topic11\", \"Topic11\", \"Topic11\", \"Topic11\", \"Topic11\", \"Topic12\", \"Topic12\", \"Topic12\", \"Topic12\", \"Topic12\", \"Topic12\", \"Topic12\", \"Topic12\", \"Topic12\", \"Topic12\", \"Topic12\", \"Topic12\", \"Topic12\", \"Topic12\", \"Topic12\", \"Topic12\", \"Topic12\", \"Topic12\", \"Topic12\", \"Topic12\", \"Topic12\", \"Topic12\", \"Topic12\", \"Topic12\", \"Topic12\", \"Topic12\", \"Topic12\", \"Topic12\", \"Topic12\", \"Topic12\", \"Topic12\", \"Topic12\", \"Topic12\", \"Topic12\", \"Topic12\", \"Topic12\", \"Topic13\", \"Topic13\", \"Topic13\", \"Topic13\", \"Topic13\", \"Topic13\", \"Topic13\", \"Topic13\", \"Topic13\", \"Topic13\", \"Topic13\", \"Topic13\", \"Topic13\", \"Topic13\", \"Topic13\", \"Topic13\", \"Topic13\", \"Topic13\", \"Topic13\", \"Topic13\", \"Topic13\", \"Topic13\", \"Topic13\", \"Topic13\", \"Topic13\", \"Topic13\", \"Topic13\", \"Topic13\", \"Topic13\", \"Topic13\", \"Topic13\", \"Topic13\", \"Topic13\", \"Topic13\", \"Topic13\", \"Topic13\", \"Topic13\", \"Topic13\", \"Topic13\", \"Topic14\", \"Topic14\", \"Topic14\", \"Topic14\", \"Topic14\", \"Topic14\", \"Topic14\", \"Topic14\", \"Topic14\", \"Topic14\", \"Topic14\", \"Topic14\", \"Topic14\", \"Topic14\", \"Topic14\", \"Topic14\", \"Topic14\", \"Topic14\", \"Topic14\", \"Topic14\", \"Topic14\", \"Topic14\", \"Topic14\", \"Topic14\", \"Topic14\", \"Topic14\", \"Topic14\", \"Topic14\", \"Topic14\", \"Topic14\", \"Topic14\", \"Topic14\", \"Topic14\", \"Topic14\", \"Topic14\", \"Topic14\", \"Topic14\", \"Topic14\", \"Topic14\", \"Topic15\", \"Topic15\", \"Topic15\", \"Topic15\", \"Topic15\", \"Topic15\", \"Topic15\", \"Topic15\", \"Topic15\", \"Topic15\", \"Topic15\", \"Topic15\", \"Topic15\", \"Topic15\", \"Topic15\", \"Topic15\", \"Topic15\", \"Topic15\", \"Topic15\", \"Topic15\", \"Topic15\", \"Topic15\", \"Topic15\", \"Topic15\", \"Topic15\", \"Topic15\", \"Topic15\", \"Topic15\", \"Topic15\", \"Topic15\", \"Topic15\", \"Topic15\", \"Topic15\", \"Topic16\", \"Topic16\", \"Topic16\", \"Topic16\", \"Topic16\", \"Topic16\", \"Topic16\", \"Topic16\", \"Topic16\", \"Topic16\", \"Topic16\", \"Topic16\", \"Topic16\", \"Topic16\", \"Topic16\", \"Topic16\", \"Topic16\", \"Topic16\", \"Topic16\", \"Topic16\", \"Topic16\", \"Topic16\", \"Topic16\", \"Topic16\", \"Topic16\", \"Topic16\", \"Topic16\", \"Topic16\", \"Topic16\", \"Topic16\", \"Topic16\", \"Topic17\", \"Topic17\", \"Topic17\", \"Topic17\", \"Topic17\", \"Topic17\", \"Topic17\", \"Topic17\", \"Topic17\", \"Topic17\", \"Topic17\", \"Topic17\", \"Topic17\", \"Topic17\", \"Topic17\", \"Topic17\", \"Topic17\", \"Topic17\", \"Topic17\", \"Topic17\", \"Topic17\", \"Topic17\", \"Topic17\", \"Topic17\", \"Topic17\", \"Topic17\", \"Topic17\", \"Topic17\", \"Topic17\", \"Topic17\", \"Topic18\", \"Topic18\", \"Topic18\", \"Topic18\", \"Topic18\", \"Topic18\", \"Topic18\", \"Topic18\", \"Topic18\", \"Topic18\", \"Topic18\", \"Topic18\", \"Topic18\", \"Topic18\", \"Topic18\", \"Topic18\", \"Topic18\", \"Topic18\", \"Topic18\", \"Topic18\", \"Topic18\", \"Topic18\", \"Topic18\", \"Topic18\", \"Topic18\", \"Topic18\", \"Topic18\", \"Topic18\", \"Topic18\", \"Topic18\", \"Topic18\", \"Topic18\", \"Topic18\", \"Topic18\", \"Topic18\", \"Topic19\", \"Topic19\", \"Topic19\", \"Topic19\", \"Topic19\", \"Topic19\", \"Topic19\", \"Topic19\", \"Topic19\", \"Topic19\", \"Topic19\", \"Topic19\", \"Topic19\", \"Topic19\", \"Topic19\", \"Topic19\", \"Topic19\", \"Topic19\", \"Topic19\", \"Topic19\", \"Topic19\", \"Topic19\", \"Topic19\", \"Topic19\", \"Topic19\", \"Topic19\", \"Topic19\", \"Topic19\", \"Topic19\", \"Topic19\", \"Topic19\", \"Topic19\", \"Topic19\", \"Topic19\", \"Topic20\", \"Topic20\", \"Topic20\", \"Topic20\", \"Topic20\", \"Topic20\", \"Topic20\", \"Topic20\", \"Topic20\", \"Topic20\", \"Topic20\", \"Topic20\", \"Topic20\", \"Topic20\", \"Topic20\", \"Topic20\", \"Topic20\", \"Topic20\", \"Topic20\", \"Topic20\", \"Topic20\", \"Topic20\", \"Topic20\", \"Topic20\", \"Topic20\", \"Topic20\", \"Topic20\", \"Topic20\", \"Topic20\", \"Topic20\", \"Topic20\", \"Topic20\", \"Topic20\", \"Topic20\", \"Topic20\", \"Topic20\", \"Topic20\", \"Topic20\"], \"logprob\": [30.0, 29.0, 28.0, 27.0, 26.0, 25.0, 24.0, 23.0, 22.0, 21.0, 20.0, 19.0, 18.0, 17.0, 16.0, 15.0, 14.0, 13.0, 12.0, 11.0, 10.0, 9.0, 8.0, 7.0, 6.0, 5.0, 4.0, 3.0, 2.0, 1.0, -4.7045, -4.8507, -5.0491, -5.1067, -5.175, -5.1765, -5.222, -5.3595, -5.4311, -5.457, -5.4833, -5.4836, -5.4984, -5.6375, -5.7879, -5.9221, -5.9618, -6.0021, -6.0519, -6.0606, -6.232, -6.2407, -6.2778, -6.2973, -6.3083, -6.3187, -6.3443, -6.3858, -6.4075, -6.4569, -4.3263, -4.1302, -5.2815, -5.3862, -4.3856, -5.4158, -4.308, -3.8647, -5.5241, -5.7536, -4.1488, -4.4395, -5.4631, -4.3015, -4.7402, -4.2122, -4.8562, -4.8565, -4.7641, -4.8036, -4.8952, -5.1867, -5.0832, -4.9502, -4.8307, -4.2072, -4.8089, -5.1829, -4.929, -4.6398, -4.7299, -4.9082, -5.0892, -5.0996, -4.0056, -4.0557, -4.2927, -4.5142, -4.6474, -4.7352, -4.7786, -4.7947, -4.8329, -4.8577, -4.9247, -4.9564, -5.0413, -5.0614, -5.09, -5.1611, -5.1986, -5.206, -5.2287, -5.2349, -5.2406, -5.2501, -5.2707, -5.365, -5.3652, -5.4238, -5.427, -5.4744, -5.5865, -5.5882, -5.2815, -5.0425, -4.8139, -3.6137, -4.5878, -4.407, -3.7199, -4.5171, -4.3192, -4.5993, -4.7092, -4.8379, -4.7531, -4.9339, -4.6229, -4.7996, -4.8034, -5.002, -5.0156, -3.6945, -4.0647, -4.2193, -4.2261, -4.4214, -4.703, -4.7273, -4.743, -4.8565, -4.8804, -4.9122, -5.0405, -5.0808, -5.171, -5.1961, -5.2443, -5.3181, -5.3628, -5.3863, -5.4031, -5.4871, -5.4885, -5.4998, -5.5756, -5.5764, -5.5885, -5.6063, -5.6329, -5.6705, -5.683, -3.5849, -4.8263, -4.3284, -3.7884, -4.4781, -4.6375, -4.8872, -4.8196, -4.9683, -4.4203, -4.4792, -3.9966, -4.5108, -4.9812, -5.0061, -4.7467, -4.6042, -4.9049, -4.8096, -4.7564, -3.9004, -4.6553, -4.7429, -4.7937, -4.9568, -5.2017, -5.2057, -5.403, -5.4136, -5.47, -5.486, -5.5062, -5.6175, -5.6364, -5.6665, -5.721, -5.7307, -5.7526, -5.757, -5.7845, -5.7876, -5.8101, -5.8162, -5.8775, -5.9025, -5.9146, -5.9487, -5.9536, -5.9868, -6.0089, -4.0031, -5.1559, -5.009, -4.7207, -3.754, -5.0104, -4.8655, -2.8573, -4.1336, -4.2881, -5.0794, -5.2001, -5.2299, -4.4977, -4.5443, -4.7348, -4.3715, -4.9535, -4.7448, -4.4632, -5.0001, -3.9309, -5.129, -5.0239, -4.7024, -4.8205, -4.6795, -4.7349, -4.8434, -4.8747, -4.8933, -2.7925, -2.9018, -3.5766, -4.0793, -4.716, -4.747, -5.1347, -5.2477, -5.3284, -5.384, -5.5389, -5.5781, -5.6111, -5.6133, -5.6939, -5.7119, -5.851, -5.9335, -6.2182, -6.4112, -6.4194, -6.4256, -6.4257, -6.4333, -6.4706, -6.6261, -6.6631, -6.669, -6.707, -6.7631, -3.8373, -3.6917, -5.054, -4.4051, -2.5062, -2.002, -4.8012, -4.46, -5.7087, -4.8607, -5.7645, -2.9835, -2.8247, -4.2274, -4.2281, -4.621, -4.4348, -4.9266, -4.1752, -5.0115, -4.1564, -5.0143, -5.1101, -4.6675, -5.0514, -4.6992, -3.0322, -3.4716, -3.9068, -4.0005, -4.0339, -4.0402, -4.1561, -4.2913, -4.3602, -4.4461, -4.6045, -4.7926, -4.9759, -5.0969, -5.1365, -5.1546, -5.1773, -5.179, -5.2141, -5.2207, -5.2762, -5.3067, -5.3131, -5.3216, -5.3293, -5.3494, -5.355, -5.4334, -5.4993, -5.5487, -4.8313, -3.8164, -5.1523, -4.8282, -4.8328, -3.8884, -4.5105, -5.0305, -3.8596, -4.3339, -4.5716, -4.9155, -4.8162, -4.2331, -4.8957, -4.9863, -4.9513, -4.9784, -0.2531, -3.95, -4.1103, -4.7183, -4.8745, -4.9449, -5.1392, -5.4052, -5.4929, -5.6382, -5.643, -5.7572, -5.9761, -6.1805, -6.263, -6.4731, -6.5207, -6.5242, -6.534, -6.6482, -6.7314, -6.7775, -7.7659, -7.9509, -8.0907, -8.4616, -9.6198, -12.9261, -12.9263, -12.9263, -9.1648, -3.9294, -4.1306, -4.1707, -4.3758, -4.4436, -4.5128, -4.745, -4.7842, -4.8295, -4.8325, -4.846, -4.8513, -4.9311, -4.9342, -5.0, -5.0095, -5.0113, -5.0701, -5.0961, -5.1917, -5.2336, -5.276, -5.2842, -5.2972, -5.3052, -5.3993, -5.4158, -5.4519, -5.4703, -5.488, -4.4403, -4.0487, -4.3269, -4.3455, -4.3289, -3.4031, -4.9626, -3.4432, -4.6181, -4.3328, -4.8833, -4.8329, -4.8729, -4.4519, -4.5982, -4.7133, -4.8867, -4.5224, -4.5633, -4.7397, -2.6276, -2.6721, -3.0039, -3.0289, -3.3863, -3.7464, -3.9997, -4.0926, -4.3327, -4.4084, -4.5674, -4.7098, -4.7215, -4.7475, -4.9762, -4.994, -5.0113, -5.0305, -5.0408, -5.1111, -5.1236, -5.1414, -5.1504, -5.1865, -5.3042, -5.3916, -5.4216, -5.4837, -5.5041, -5.5939, -4.0039, -4.2759, -4.6778, -4.4401, -3.2256, -4.5895, -4.4247, -4.0837, -4.6605, -4.7872, -4.4406, -4.4424, -4.9754, -4.8088, -2.3518, -3.2236, -3.5656, -3.6747, -3.8026, -3.867, -4.0066, -4.1292, -4.1736, -4.2328, -4.2896, -4.3242, -4.4965, -4.5878, -4.7453, -4.8804, -4.9336, -4.9632, -5.0236, -5.0261, -5.0692, -5.0795, -5.0812, -5.2296, -5.2313, -5.3008, -5.3067, -5.3689, -5.3707, -5.4198, -4.3433, -3.2998, -3.5957, -4.3016, -4.4241, -3.9066, -4.2348, -4.937, -4.4425, -4.8745, -4.7974, -4.8341, -4.8892, -2.3143, -2.585, -3.6263, -3.6702, -3.8972, -4.0886, -4.4531, -4.5379, -4.5781, -4.8109, -4.8672, -4.8893, -4.8987, -4.9169, -4.9488, -5.0006, -5.0318, -5.1322, -5.2008, -5.2241, -5.2742, -5.3866, -5.4442, -5.4651, -5.4786, -5.4858, -5.5607, -5.5616, -5.6546, -5.6677, -3.5297, -4.0721, -4.0831, -4.1792, -3.6668, -4.9637, -4.4592, -4.0897, -4.9668, -4.6063, -4.4297, -4.0692, -4.1435, -4.371, -4.5048, -4.1964, -4.5491, -4.7181, -4.8871, -2.6939, -3.2072, -3.5072, -3.5855, -3.632, -3.6771, -3.7003, -3.8509, -4.3493, -4.3626, -4.3635, -4.4051, -4.406, -4.4197, -4.4366, -4.5243, -4.5382, -4.6459, -4.6668, -4.6721, -4.6816, -4.6859, -4.8088, -4.8543, -4.9664, -4.998, -5.0584, -5.1902, -5.3356, -5.4188, -2.2363, -3.2698, -4.3982, -4.4549, -4.4344, -4.2397, -3.0086, -3.0384, -3.4725, -3.5058, -3.7072, -3.7101, -3.7182, -3.7725, -3.854, -4.1282, -4.2275, -4.2913, -4.3568, -4.3853, -4.5785, -4.585, -4.5947, -4.644, -4.7147, -4.7565, -4.7898, -4.8834, -4.957, -4.995, -5.0103, -5.1631, -5.209, -5.2535, -5.2638, -5.3376, -2.3613, -3.6909, -4.3208, -4.6303, -4.1733, -3.6446, -4.7919, -4.6004, -4.861, -2.7848, -3.0297, -3.1595, -3.1954, -3.8713, -3.9134, -4.0071, -4.2144, -4.2152, -4.32, -4.3926, -4.395, -4.4352, -4.4892, -4.5182, -4.6702, -4.7402, -4.8484, -5.0557, -5.0574, -5.0766, -5.1009, -5.101, -5.1022, -5.1022, -5.1567, -5.1895, -5.6102, -5.6678, -5.7072, -4.1013, -4.9706, -4.9694, -4.7158, -4.8166, -4.814, -5.0004, -5.045, -5.0235, -2.0885, -2.7796, -2.7824, -2.8859, -3.0207, -3.1979, -3.7746, -3.8592, -3.912, -3.9754, -4.3273, -4.3687, -4.5796, -4.5951, -4.909, -5.0198, -5.1239, -5.2291, -5.2712, -5.506, -5.5125, -5.8356, -5.9415, -6.3943, -6.4121, -6.4382, -6.718, -6.7269, -8.0395, -4.1743, -4.2334, -4.9516, -5.621, -2.754, -2.8276, -2.9813, -3.2462, -3.4712, -3.6145, -3.7498, -4.0336, -4.0545, -4.0657, -4.0726, -4.0756, -4.1125, -4.1402, -4.3345, -4.4247, -4.5391, -4.6323, -4.7978, -4.8015, -4.8636, -4.9433, -5.3688, -5.4246, -5.7851, -5.8836, -6.1233, -6.6311, -6.8669, -7.1329, -4.7681, -2.057, -2.7101, -2.9262, -3.1677, -3.5171, -3.7327, -3.8861, -4.0446, -4.5252, -4.671, -4.7786, -4.811, -4.9755, -4.9879, -5.18, -5.3673, -5.4709, -5.7084, -5.7872, -5.8544, -5.8546, -5.8546, -6.0181, -6.0469, -6.4051, -6.4551, -11.4564, -11.4564, -11.4564, -11.4564, -2.6632, -2.7277, -3.0286, -3.2131, -3.2218, -3.8597, -4.1883, -4.6905, -5.1137, -5.223, -5.5101, -6.4619, -6.817, -3.9625, -11.2473, -11.2473, -11.2474, -11.2475, -11.2475, -11.2475, -11.2475, -11.2475, -11.2474, -11.2475, -11.2475, -11.2475, -11.2474, -11.2475, -11.2475, -11.2475, -11.2475, -11.2475, -11.2475, -11.2475, -11.2475, -3.1356, -3.3942, -3.8621, -2.0006, -4.6724, -4.7297, -4.7863, -5.436, -5.4662, -5.7975, -11.1381, -11.1388, -11.1391, -11.1394, -11.1394, -11.1394, -11.1394, -11.1394, -11.1393, -11.1394, -11.1394, -11.1394, -11.1394, -11.1394, -11.1394, -11.1394, -11.1394, -11.1394, -11.1394, -11.1394, -11.1394, -11.1394, -11.1394, -11.1394, -2.3801, -2.5532, -3.2222, -3.9511, -4.1698, -4.4472, -4.553, -4.661, -5.5389, -6.0001, -11.1552, -11.1553, -11.1554, -11.1554, -11.1554, -11.1554, -11.1554, -11.1554, -11.1554, -11.1554, -11.1554, -11.1554, -11.1554, -11.1554, -11.1555, -11.1555, -11.1555, -11.1554, -11.1555, -11.1555, -11.1554, -11.1554, -11.1554, -11.1554, -11.1555, -11.1554, -11.1554, -11.1554], \"loglift\": [30.0, 29.0, 28.0, 27.0, 26.0, 25.0, 24.0, 23.0, 22.0, 21.0, 20.0, 19.0, 18.0, 17.0, 16.0, 15.0, 14.0, 13.0, 12.0, 11.0, 10.0, 9.0, 8.0, 7.0, 6.0, 5.0, 4.0, 3.0, 2.0, 1.0, 0.9611, 0.961, 0.961, 0.9609, 0.9609, 0.9609, 0.9609, 0.9608, 0.9608, 0.9608, 0.9608, 0.9608, 0.9608, 0.9607, 0.9606, 0.9605, 0.9604, 0.9604, 0.9603, 0.9603, 0.9601, 0.9601, 0.9601, 0.9601, 0.96, 0.96, 0.96, 0.9599, 0.9599, 0.9598, 0.9578, 0.9547, 0.9587, 0.9587, 0.9474, 0.953, 0.937, 0.9238, 0.9405, 0.9469, 0.8782, 0.8749, 0.9229, 0.8272, 0.8498, 0.7854, 0.8364, 0.8342, 0.8133, 0.8129, 0.8127, 0.8754, 0.8396, 0.7846, 0.7269, 0.3331, 0.6125, 0.8327, 0.6359, 0.3286, 0.1522, 0.4305, 0.6503, 0.6599, 2.0884, 2.0884, 2.0883, 2.0882, 2.0881, 2.088, 2.088, 2.0879, 2.0879, 2.0879, 2.0878, 2.0878, 2.0877, 2.0877, 2.0876, 2.0876, 2.0875, 2.0875, 2.0875, 2.0875, 2.0875, 2.0874, 2.0874, 2.0873, 2.0873, 2.0872, 2.0872, 2.0871, 2.0869, 2.0869, 2.0774, 2.0676, 2.0138, 1.8654, 1.9068, 1.8137, 1.5718, 1.7659, 1.6259, 1.7159, 1.6744, 1.6331, 1.4624, 1.6089, 0.7159, 0.9041, 0.7614, 1.2885, 0.9752, 2.4484, 2.4482, 2.4481, 2.4481, 2.4479, 2.4476, 2.4476, 2.4476, 2.4474, 2.4474, 2.4474, 2.4472, 2.4471, 2.4469, 2.4469, 2.4468, 2.4467, 2.4466, 2.4465, 2.4465, 2.4463, 2.4463, 2.4462, 2.446, 2.446, 2.446, 2.4459, 2.4459, 2.4458, 2.4457, 2.4231, 2.4255, 2.3294, 2.1848, 2.2472, 2.2577, 2.2978, 2.2764, 2.219, 1.9688, 1.6216, 0.9718, 1.4005, 1.9476, 1.8916, 1.0872, 0.4657, 1.5194, 0.958, 0.3723, 2.4622, 2.4616, 2.4615, 2.4614, 2.4612, 2.4608, 2.4608, 2.4604, 2.4603, 2.4602, 2.4601, 2.4601, 2.4598, 2.4597, 2.4597, 2.4595, 2.4595, 2.4594, 2.4594, 2.4593, 2.4593, 2.4592, 2.4592, 2.4589, 2.4588, 2.4588, 2.4587, 2.4586, 2.4585, 2.4584, 2.4563, 2.4554, 2.4317, 2.4075, 2.3431, 2.3972, 2.3843, 2.2127, 2.3174, 2.2868, 2.3256, 2.3298, 2.3346, 2.1388, 2.1359, 2.1783, 2.0408, 2.2323, 2.0361, 1.7385, 2.0984, 1.0374, 2.1568, 2.007, 1.4519, 1.5793, 0.8781, 1.0327, 1.1398, 0.9019, 0.4455, 2.4879, 2.4879, 2.4877, 2.4874, 2.4869, 2.4868, 2.4862, 2.486, 2.4858, 2.4857, 2.4853, 2.4852, 2.4851, 2.4851, 2.4849, 2.4848, 2.4843, 2.484, 2.4827, 2.4815, 2.4815, 2.4814, 2.4814, 2.4814, 2.4811, 2.48, 2.4797, 2.4796, 2.4793, 2.4788, 2.4721, 2.4421, 2.4558, 2.4104, 2.3504, 2.3209, 2.3786, 2.3174, 2.4096, 2.2728, 2.3848, 1.8987, 1.7156, 1.9953, 1.8742, 1.8892, 1.7194, 1.9777, 1.4305, 2.0023, 1.2649, 1.891, 1.9805, 1.072, 1.8267, 0.2984, 2.8942, 2.894, 2.8938, 2.8937, 2.8937, 2.8937, 2.8935, 2.8934, 2.8933, 2.8932, 2.893, 2.8926, 2.8922, 2.8919, 2.8918, 2.8918, 2.8917, 2.8917, 2.8916, 2.8916, 2.8914, 2.8913, 2.8913, 2.8913, 2.8912, 2.8912, 2.8912, 2.8909, 2.8906, 2.8904, 2.8764, 2.7944, 2.8659, 2.8266, 2.8261, 2.6665, 2.7375, 2.8296, 2.5201, 2.5635, 2.6278, 2.7016, 2.4619, 1.5226, 2.0916, 2.2488, 1.7673, 1.4749, 3.1376, 3.1367, 3.1365, 3.1355, 3.1351, 3.1349, 3.1344, 3.1333, 3.133, 3.1322, 3.1322, 3.1315, 3.13, 3.1283, 3.1275, 3.1252, 3.1246, 3.1245, 3.1244, 3.1228, 3.1215, 3.1208, 3.0929, 3.084, 3.0762, 3.0498, 2.881, 0.9423, 0.9421, 0.9421, -2.8139, 3.2858, 3.2855, 3.2854, 3.2851, 3.2849, 3.2848, 3.2842, 3.2841, 3.284, 3.284, 3.2839, 3.2839, 3.2837, 3.2837, 3.2834, 3.2834, 3.2834, 3.2832, 3.2831, 3.2827, 3.2825, 3.2823, 3.2823, 3.2822, 3.2822, 3.2817, 3.2816, 3.2814, 3.2813, 3.2812, 3.2151, 3.1834, 3.2035, 3.1862, 3.1515, 3.0048, 3.1842, 2.6522, 2.9758, 2.7891, 3.0812, 2.9982, 3.0121, 2.3355, 2.396, 2.2582, 2.8412, 1.0722, 1.1962, 2.0484, 3.7309, 3.7309, 3.7307, 3.7307, 3.7303, 3.7298, 3.7294, 3.7292, 3.7286, 3.7284, 3.7278, 3.7273, 3.7272, 3.7271, 3.726, 3.7259, 3.7258, 3.7257, 3.7257, 3.7252, 3.7252, 3.725, 3.725, 3.7248, 3.7239, 3.7232, 3.723, 3.7225, 3.7223, 3.7214, 3.6386, 3.3447, 3.466, 3.2461, 2.369, 2.9489, 2.4614, 1.8615, 2.8369, 3.0647, 1.8982, 1.3342, 3.3418, 1.7925, 3.9059, 3.9052, 3.9048, 3.9046, 3.9043, 3.9042, 3.9039, 3.9036, 3.9034, 3.9033, 3.9031, 3.903, 3.9023, 3.9019, 3.9012, 3.9005, 3.9001, 3.8999, 3.8996, 3.8995, 3.8992, 3.8992, 3.8992, 3.898, 3.898, 3.8974, 3.8973, 3.8968, 3.8968, 3.8963, 3.8119, 3.4145, 3.1194, 3.402, 3.1296, 2.5013, 2.6706, 3.4271, 1.0366, 2.259, 1.4856, 1.6731, 1.4259, 4.243, 4.2428, 4.2413, 4.2412, 4.2405, 4.2399, 4.2383, 4.2378, 4.2375, 4.236, 4.2355, 4.2353, 4.2353, 4.2351, 4.2348, 4.2344, 4.2341, 4.2331, 4.2323, 4.2321, 4.2315, 4.23, 4.2292, 4.2289, 4.2287, 4.2286, 4.2275, 4.2275, 4.2259, 4.2257, 4.2156, 4.1975, 4.1838, 4.1431, 4.0736, 4.1787, 4.0061, 3.7069, 3.9959, 3.793, 3.3739, 2.8439, 2.6446, 2.9827, 3.0488, 1.5631, 1.5462, 1.9185, 3.4677, 4.522, 4.5212, 4.5205, 4.5203, 4.5201, 4.52, 4.5199, 4.5193, 4.5168, 4.5167, 4.5167, 4.5165, 4.5165, 4.5164, 4.5162, 4.5156, 4.5155, 4.5146, 4.5144, 4.5144, 4.5143, 4.5143, 4.5131, 4.5126, 4.5114, 4.511, 4.5102, 4.5084, 4.5061, 4.5046, 4.4754, 4.0553, 4.2061, 3.8998, 3.4815, 2.8509, 4.5451, 4.5451, 4.5441, 4.544, 4.5434, 4.5434, 4.5434, 4.5432, 4.5429, 4.5416, 4.541, 4.5407, 4.5402, 4.5401, 4.5386, 4.5386, 4.5385, 4.5381, 4.5374, 4.537, 4.5367, 4.5357, 4.5349, 4.5344, 4.5342, 4.5321, 4.5314, 4.5307, 4.5306, 4.5293, 4.4308, 4.4148, 4.4264, 4.3376, 4.0497, 3.6108, 4.3298, 2.1869, 3.7786, 4.8905, 4.8899, 4.8896, 4.8895, 4.8867, 4.8864, 4.8859, 4.8844, 4.8844, 4.8835, 4.8828, 4.8828, 4.8824, 4.8818, 4.8815, 4.8797, 4.8788, 4.8773, 4.8739, 4.8738, 4.8735, 4.873, 4.873, 4.873, 4.873, 4.8719, 4.8712, 4.8603, 4.8585, 4.8571, 4.8131, 4.7746, 4.3782, 3.0245, 2.8744, 2.3982, 2.5313, 3.0879, 1.9309, 5.2507, 5.2493, 5.2493, 5.249, 5.2485, 5.2478, 5.2445, 5.2439, 5.2434, 5.2429, 5.239, 5.2385, 5.2353, 5.235, 5.2288, 5.2261, 5.2233, 5.2202, 5.2189, 5.2102, 5.21, 5.1944, 5.1881, 5.1533, 5.1516, 5.1491, 5.118, 5.1168, 4.8216, 4.7837, 3.8885, 3.3455, 2.4269, 5.7105, 5.7102, 5.7094, 5.7077, 5.7059, 5.7046, 5.7031, 5.6993, 5.6989, 5.6988, 5.6986, 5.6986, 5.698, 5.6975, 5.6939, 5.6919, 5.6891, 5.6867, 5.6817, 5.6816, 5.6795, 5.6766, 5.6569, 5.6536, 5.6282, 5.6197, 5.5954, 5.5235, 5.4782, 5.416, 3.519, 5.9336, 5.9311, 5.9298, 5.9281, 5.9246, 5.9218, 5.9195, 5.9166, 5.9046, 5.8998, 5.8957, 5.8944, 5.8871, 5.8865, 5.8762, 5.8643, 5.8567, 5.8364, 5.8287, 5.8216, 5.8216, 5.8216, 5.8025, 5.7989, 5.745, 5.7361, 2.412, 2.412, 2.412, 2.412, 6.2278, 6.2273, 6.2248, 6.2229, 6.2228, 6.2124, 6.2039, 6.1845, 6.1591, 6.1508, 6.1244, 5.9711, 5.8769, 3.9226, 2.6211, 2.621, 2.621, 2.621, 2.621, 2.621, 2.621, 2.621, 2.621, 2.621, 2.621, 2.621, 2.621, 2.621, 2.621, 2.621, 2.621, 2.6209, 2.6209, 2.6209, 2.6209, 6.5789, 6.5744, 6.5626, 6.552, 6.5243, 6.5203, 6.5162, 6.4496, 6.4455, 6.3926, 2.7302, 2.7296, 2.7293, 2.7291, 2.7291, 2.7291, 2.7291, 2.7291, 2.7291, 2.7291, 2.729, 2.729, 2.729, 2.729, 2.729, 2.729, 2.729, 2.729, 2.729, 2.729, 2.729, 2.729, 2.729, 2.729, 6.7687, 6.767, 6.7571, 6.7358, 6.7259, 6.7099, 6.7027, 6.6945, 6.5884, 6.4922, 2.7132, 2.7131, 2.7131, 2.713, 2.713, 2.713, 2.713, 2.713, 2.713, 2.713, 2.713, 2.713, 2.713, 2.713, 2.713, 2.713, 2.713, 2.713, 2.713, 2.713, 2.713, 2.713, 2.713, 2.713, 2.713, 2.713, 2.7128, 2.713]}, \"token.table\": {\"Topic\": [18, 20, 13, 3, 4, 4, 1, 3, 7, 19, 2, 5, 13, 4, 9, 1, 3, 8, 6, 13, 14, 1, 2, 3, 4, 11, 11, 4, 15, 11, 1, 2, 4, 2, 7, 5, 5, 10, 8, 11, 1, 2, 8, 3, 8, 14, 1, 5, 15, 15, 12, 13, 3, 12, 14, 8, 10, 3, 5, 2, 9, 7, 11, 17, 1, 1, 9, 10, 16, 5, 6, 4, 20, 1, 3, 4, 16, 1, 4, 8, 3, 1, 3, 1, 17, 1, 2, 10, 11, 1, 10, 4, 8, 2, 4, 5, 13, 5, 1, 4, 9, 8, 10, 5, 6, 6, 1, 2, 4, 5, 17, 9, 17, 6, 5, 1, 1, 4, 6, 8, 11, 11, 19, 18, 2, 6, 13, 4, 13, 14, 2, 10, 3, 3, 5, 8, 10, 4, 8, 11, 8, 3, 3, 17, 10, 18, 1, 8, 9, 14, 4, 18, 2, 5, 2, 5, 1, 3, 4, 3, 11, 14, 5, 8, 11, 13, 2, 5, 4, 3, 16, 14, 8, 8, 5, 4, 1, 2, 6, 8, 17, 6, 18, 2, 17, 17, 13, 6, 8, 1, 10, 11, 2, 17, 20, 16, 11, 14, 10, 14, 9, 18, 10, 17, 13, 6, 1, 5, 10, 2, 10, 9, 1, 4, 4, 4, 11, 9, 8, 9, 3, 10, 14, 3, 5, 9, 4, 14, 8, 15, 15, 2, 9, 16, 3, 13, 7, 7, 11, 4, 3, 1, 2, 5, 5, 6, 9, 1, 2, 16, 4, 13, 6, 2, 5, 13, 7, 8, 3, 12, 6, 1, 2, 5, 10, 1, 2, 6, 7, 9, 6, 1, 18, 2, 4, 6, 15, 14, 15, 8, 7, 1, 3, 4, 3, 12, 1, 2, 3, 2, 3, 11, 6, 1, 1, 3, 18, 14, 4, 9, 1, 3, 4, 8, 3, 15, 9, 2, 14, 15, 4, 10, 12, 2, 13, 1, 4, 9, 10, 13, 13, 1, 2, 4, 8, 9, 16, 16, 1, 2, 3, 4, 11, 3, 4, 6, 8, 15, 12, 12, 6, 14, 15, 16, 2, 9, 16, 7, 14, 1, 2, 5, 10, 1, 3, 4, 1, 9, 9, 10, 11, 3, 19, 1, 9, 8, 10, 17, 1, 4, 9, 5, 4, 8, 20, 6, 8, 2, 4, 5, 4, 1, 5, 11, 11, 11, 1, 2, 17, 15, 10, 1, 4, 9, 1, 2, 4, 5, 7, 4, 1, 2, 6, 1, 9, 9, 10, 11, 5, 6, 1, 2, 3, 4, 7, 20, 1, 15, 13, 8, 17, 10, 16, 2, 3, 4, 6, 8, 1, 6, 8, 1, 4, 6, 10, 19, 2, 5, 2, 4, 5, 10, 8, 15, 2, 13, 2, 5, 6, 15, 12, 15, 1, 2, 5, 6, 5, 8, 4, 8, 13, 14, 7, 8, 2, 3, 4, 10, 16, 16, 3, 8, 3, 6, 9, 17, 4, 7, 10, 5, 13, 4, 8, 11, 13, 14, 1, 3, 4, 5, 3, 13, 14, 5, 8, 8, 15, 1, 4, 9, 12, 11, 13, 1, 3, 4, 6, 9, 9, 1, 3, 6, 1, 4, 2, 10, 11, 4, 3, 4, 1, 5, 10, 1, 1, 4, 8, 12, 1, 4, 14, 1, 2, 5, 1, 9, 1, 6, 12, 1, 5, 2, 14, 2, 5, 1, 3, 18, 4, 5, 1, 2, 3, 4, 12, 6, 14, 11, 10, 15, 1, 2, 15, 1, 3, 4, 6, 11, 16, 14, 4, 8, 2, 11, 2, 4, 5, 16, 14, 6, 8, 9, 3, 5, 8, 12, 2, 2, 6, 2, 19, 12, 3, 14, 20, 16, 17, 14, 1, 11, 14, 14, 16, 1, 2, 4, 5, 8, 3, 14, 1, 2, 5, 10, 1, 2, 4, 5, 9, 2, 1, 2, 4, 5, 6, 10, 1, 2, 9, 16, 15, 5, 2, 2, 16, 10, 1, 2, 5, 8, 11, 12, 12, 8, 9, 2, 4, 6, 1, 4, 6, 7, 12, 12, 1, 2, 4, 1, 5, 12, 6, 12, 9, 2, 10, 11, 13, 5, 7, 4, 3, 1, 6, 2, 9, 9, 9, 1, 3, 4, 8, 8, 7, 3, 4, 11, 10, 16, 5, 10, 10, 1, 9, 6, 9, 8, 12, 9, 9, 17, 14, 1, 3, 9, 8, 10, 18, 8, 10, 8, 8, 14, 17, 1, 2, 4, 5, 1, 4, 1, 3, 6, 8, 9, 7, 15, 1, 10, 6, 4, 5, 10, 10, 18, 1, 12, 1, 2, 5, 12, 14, 6, 10, 2, 10, 11, 1, 2, 12, 3, 3, 11, 18, 16, 8, 10, 11, 3, 8, 2, 3, 8, 10, 9, 4, 8, 10, 6, 5, 1, 15, 16, 1, 2, 3, 7, 4, 7, 18, 12, 6, 13, 6, 4, 19, 1, 3, 1, 1, 3, 14, 16, 16, 3, 17, 8, 14, 12, 11, 14, 11, 3, 3, 14, 20, 5, 6, 3, 5, 14, 1, 2, 8, 13, 4, 5, 12, 3, 9, 11, 18, 11, 1, 3, 8, 10, 11, 4, 6, 1, 6, 14, 9, 8, 12, 19, 8, 7, 1, 2, 6, 9, 7, 7, 1, 9, 13, 6, 10, 6, 12, 1, 3, 4, 15, 13, 10, 12, 12, 13, 9, 17, 2, 15, 4, 15, 9, 7, 10, 1, 10, 10, 1, 3, 4, 1, 3, 6, 7, 3, 14, 5, 4, 2, 10, 1, 2, 3, 17, 13, 9, 11, 13, 14, 11, 12, 5, 15, 16, 16, 12, 14, 2, 12, 8, 14, 1, 1, 2, 3, 14, 2, 12, 19, 16, 5, 15, 2, 6, 12, 16, 20, 7, 1, 9, 1, 4, 9, 9, 1, 3, 8, 11, 3, 1, 8, 16, 10, 8, 13, 1, 6, 4, 12, 14, 19, 4, 1, 1, 2, 3, 8, 11, 1, 6, 13, 15, 2, 3, 6, 10, 16, 1, 4, 8, 13, 10, 2, 11, 9, 2, 5, 10, 12, 11, 1, 3, 4, 3, 14, 4, 2, 5, 3, 15, 1, 3, 1, 3, 13, 15, 1, 2, 4, 7, 1, 3, 4, 8, 10, 14, 4, 7, 1, 9, 11, 4, 8, 13, 11, 19, 1, 3, 8, 3, 1, 2, 3, 5, 14, 14, 14, 1, 15, 20, 13, 8, 5, 8, 12, 13, 11, 5, 1, 2, 3, 6, 10, 2, 10, 15, 16, 1, 2, 5, 2, 3, 8, 14, 11, 13, 17, 5, 14, 9, 11, 1, 5, 8, 10, 6, 1, 3, 14, 11, 17, 1, 3, 9, 1, 15, 17, 13, 17, 9, 2, 7, 20, 6, 8, 3, 13, 14, 4, 14, 1, 2, 3, 4, 1, 2, 5, 14, 17, 17, 1, 3, 5, 1, 6, 8, 9, 4, 9, 8], \"Freq\": [0.8785719960184578, 0.9022381552202664, 0.9952786604213896, 0.8601646110036659, 0.13857067122374092, 0.997624290013517, 0.9857945799397183, 0.013911148658546379, 0.9954168342798513, 0.9569420152104008, 0.02982698075919601, 0.9686667084653181, 0.9854156696259561, 0.9362604596166333, 0.06156233159123068, 0.42667291351215014, 0.5730047791571113, 0.9950772785797806, 0.998383230318126, 0.8119219687610302, 0.18314029370549553, 0.5881244020634339, 0.2533957478862839, 0.02527476769198228, 0.13301656586613753, 0.9919861466620307, 0.9887345758912751, 0.99461386613068, 0.9831559551204166, 0.9788208254050867, 0.04725647042102839, 0.15717912987863789, 0.7941141659881509, 0.9987198413439174, 0.9863234174709307, 0.9985178696948163, 0.9947086211561783, 0.9935089388557594, 0.998083162144951, 0.9852090677292624, 0.511583956824008, 0.13017614460513657, 0.35736253710072524, 0.9992074916844291, 0.9982610344081017, 0.9972560258129173, 0.4452658668964463, 0.554658218616108, 0.9668093212160482, 0.9642126573273229, 0.9954257541885438, 0.9805440123588022, 0.9989217037483434, 0.9799980910117618, 0.9641042582101902, 0.9016635026362492, 0.09683736901821292, 0.9975865806005312, 0.9888482842737778, 0.9991182790127611, 0.9971208591286151, 0.9999666962632285, 0.9954546295127252, 0.9159502623797677, 0.9997469882322119, 0.9973862404182995, 0.002215429232381829, 0.9948227040036725, 0.9914955200519996, 0.9955137048939029, 0.9967088595792504, 0.9972627295605722, 0.9265713004747392, 0.13978602888612215, 0.20625291517020966, 0.6530200271003648, 0.6576339908299107, 0.2560680560893545, 0.6947728874777339, 0.04801276051675397, 0.9985834960580628, 0.024993165841975837, 0.9747334678370577, 0.9992252179217788, 0.9753409987842797, 0.2271019697107647, 0.6886179043691938, 0.08387288654090742, 0.9980478053311096, 0.3948595162145965, 0.603497077183881, 0.9991194244854635, 0.9961952754706179, 0.005962135871441553, 0.9936893119069254, 0.9948645932307558, 0.995072499265716, 0.9937168193591923, 0.36075144868453946, 0.634394620735495, 0.004399407910787067, 0.9968374707920079, 0.9914732033941795, 0.09480995716194449, 0.904741359502702, 0.9975022827248885, 0.49133967626257385, 0.19289403119604814, 0.2663480782755033, 0.04907224153627465, 0.9875862741488401, 0.9881486620510737, 0.9902994179724025, 0.99937284442474, 0.9995966183730715, 0.9981563568657703, 0.1288092946851012, 0.42895925494189363, 0.13245484076109462, 0.02430364050662287, 0.2831374119021564, 0.98435239179702, 0.8113897048514687, 0.9476607085461608, 0.9986330212676193, 0.9989297640499933, 0.9896128262582602, 0.09493907579907493, 0.8904869518380386, 0.013859719094755465, 0.5440973358789963, 0.45491156973845326, 0.9995715068847381, 0.9979687827999627, 0.9955554741248447, 0.7501510418850814, 0.2487446013561497, 0.07830387472761681, 0.9193454921723899, 0.9900507568551167, 0.996396876382673, 0.999607469926035, 0.9968735517273984, 0.9394631114534252, 0.9966611447595302, 0.9943903017798427, 0.868941495661892, 0.026084547712176873, 0.052169095424353745, 0.051353953308348216, 0.9957354350420968, 0.7808538080596467, 0.999452030401344, 0.999165585527239, 0.07377152255475579, 0.9249813981865533, 0.7910514300955328, 0.003831245774105308, 0.20507247117184726, 0.3076750634810694, 0.6360922660732221, 0.05185534777770832, 0.9965875927698226, 0.9978868384645112, 0.9857712034478173, 0.9873206449219393, 0.4501112955480865, 0.549438991429778, 0.9951668449571376, 0.9980191249641257, 0.8866854668475909, 0.9872199042827718, 0.9959447644182212, 0.9972066436172798, 0.9955462863589648, 0.99758229944752, 0.13826229268223122, 0.2544704773292599, 0.19594226754353014, 0.41054570342453933, 0.9934659856988913, 0.9975442565363702, 0.9949081510456778, 0.9988786386407608, 0.9337341401419647, 0.7665391727576576, 0.9969110390455928, 0.9989383370413535, 0.9987107298060147, 0.9986651864111151, 0.09283182713058585, 0.9059105888950274, 0.9988299426278092, 0.9744611610609017, 0.862769247132169, 0.9782019629350385, 0.972516097709934, 0.025166775171791268, 0.9100266034099959, 0.08666920032476151, 0.9921491259174023, 0.9846032901067825, 0.9900027124782769, 0.8835205695417974, 0.9872900842137804, 0.9965461249105935, 0.9176933197187694, 0.08181763585556714, 0.9857618392674505, 0.9278523749827847, 0.07181519930207311, 0.9928510230907465, 0.5149180333601143, 0.4845835630875945, 0.9976986085963865, 0.7524332947780562, 0.24637888550424916, 0.9956560256934754, 0.3184772270760534, 0.6783564936719938, 0.9986259458703014, 0.09297013501658104, 0.8898570065872756, 0.9985118173703128, 0.9983273185009909, 0.9955061927711486, 0.8316839168516028, 0.16421784345477508, 0.3687198068275403, 0.6286370477059703, 0.9789983167021596, 0.9983388267666282, 0.996867983175404, 0.9688075760164235, 0.6068764539481558, 0.39210166534581387, 0.9991081851732305, 0.9972956385825866, 0.9952865793925629, 0.9991846977074703, 0.9961243753186676, 0.9988132917820992, 0.9984173752342008, 0.9975017823846317, 0.2538863344500254, 0.06505837320281901, 0.679145944653818, 0.4652171065166902, 0.5345130437216867, 0.9722197535694287, 0.9971508369164434, 0.9968019168751353, 0.9995696202449336, 0.15637382000061154, 0.8433260598286255, 0.9984251188598723, 0.9977810059184756, 0.9933377292007157, 0.37198085307124584, 0.6258725464373343, 0.9979564330653646, 0.9992622034151352, 0.39924383901552274, 0.600028604656339, 0.9982184738674423, 0.9450749144127736, 0.03254267393968513, 0.00891580107936579, 0.0026747403238097365, 0.010253171241270656, 0.9987674354450815, 0.9995024873353274, 0.9639378793574724, 0.9986835239893759, 0.6715013644834577, 0.2676273554100737, 0.05839142299856153, 0.9959648700668307, 0.8664233826118846, 0.9970555384931105, 0.9872797515857019, 0.838033532779384, 0.12422444783515142, 0.03755622841527834, 0.9996412540406836, 0.9916807899707825, 0.0937520890355694, 0.2995299793763531, 0.6062105418147412, 0.11209202912521521, 0.8876476900996773, 0.9923663251818687, 0.9957110601144948, 0.9990456582699127, 0.2037181295982051, 0.7942949295445169, 0.9931284303653969, 0.9861949469920128, 0.9464953656723126, 0.05236757146137795, 0.2917751062164481, 0.6187484792145629, 0.04492410365554835, 0.043997833477083435, 0.9994196947358683, 0.9978413685814652, 0.997586886149177, 0.9976610681322774, 0.9571358875066578, 0.5990923868535779, 0.9967359224204647, 0.9884383389578623, 0.9986809085326255, 0.9994091905852567, 0.9967241368467264, 0.35196311193788155, 0.13198616697670557, 0.5139461350456566, 0.9951105561621238, 0.9989221643007961, 0.9951062165460787, 0.6747571004592433, 0.018826928026206564, 0.20985749106544918, 0.005020514140321751, 0.09087130593982369, 0.9932519841230891, 0.9887795114952325, 0.044481398603476295, 0.4490103443935815, 0.26227239742615743, 0.24380842064735592, 0.992276612390311, 0.1339646305026174, 0.2245594165979126, 0.033732101205695024, 0.6081415960226731, 0.9977069470096291, 0.994539203981129, 0.9907659122718058, 0.9705959997760829, 0.025977021891817307, 0.9884243197070771, 0.9933796211778543, 0.9983942873153868, 0.9993237524060595, 0.9947024935951155, 0.9874328222801771, 0.9950448642998446, 0.9631078305385239, 0.011119611121964136, 0.0256965803238667, 0.989560443515285, 0.8619082372456279, 0.0660843183532537, 0.07170851565991358, 0.9934758712398474, 0.006410332671208529, 0.9115776725495766, 0.02108631626894038, 0.06650299746358121, 0.9987324643491341, 0.7656216505808058, 0.9759183148731774, 0.023896427903484695, 0.7541119785024063, 0.2453931344313212, 0.9970588999377671, 0.9794062895101178, 0.00799107630400912, 0.01198661445601368, 0.9933418299849774, 0.1255248272645247, 0.8731562160268587, 0.9304328203467941, 0.9816708620168525, 0.015582077174870675, 0.10894837674313015, 0.8871510677654885, 0.003458678626766037, 0.9954349983040127, 0.9986861836580678, 0.9911134233233952, 0.998971435630991, 0.9961262850898701, 0.9868776913163513, 0.9992711142841266, 0.9985983455233262, 0.944857437786373, 0.9958582627579096, 0.9953950334401677, 0.9994811803425909, 0.9972472673993384, 0.9952592583398773, 0.204431848608704, 0.18252843625777143, 0.07162068165543031, 0.5413271909587621, 0.9910107491844041, 0.9967171132188593, 0.22068324854293583, 0.09130138557181752, 0.6877425978500225, 0.5408150675535299, 0.4575003139033916, 0.9916466075968943, 0.04251226576868921, 0.953489389383458, 0.9998296787629145, 0.9981436132789497, 0.4807021599296386, 0.12377361004176322, 0.3948282211797331, 0.9986708162581523, 0.9969476307853655, 0.9948300380037458, 0.9992456558308502, 0.998773263124734, 0.9945681135821903, 0.9970986025753503, 0.8623424950320853, 0.9951983646839273, 0.9558604897822723, 0.7596295228968049, 0.02582975193775843, 0.13345371834508524, 0.05557310265396511, 0.025047032182068784, 0.23885548430084827, 0.6489658441381538, 0.11154100446124518, 0.006288554101852904, 0.9920194095672956, 0.3771526200857514, 0.620799887928759, 0.9034183383558911, 0.4833498790562383, 0.5158249490553293, 0.7239015879848215, 0.06872483430235647, 0.11787350368222353, 0.0887175133721329, 0.9943584051827296, 0.9218056404289858, 0.9982810003749262, 0.9952464854655728, 0.9881810829654687, 0.009771877211030592, 0.9956367316730375, 0.9923434674707853, 0.9887835712748094, 0.9528223744808076, 0.05105919890015522, 0.00919065580202794, 0.8965995326867257, 0.04186854309812728, 0.9963957958216011, 0.9977370612511263, 0.9984780776867747, 0.9946239799355773, 0.9915087000332315, 0.9947283557213962, 0.8357093781513795, 0.9988533486983353, 0.06504068799083057, 0.042867726175774695, 0.8647455107871792, 0.026607554178067053, 0.957077282480429, 0.8601242026490727, 0.35861486143733273, 0.6395003933020417, 0.12650061438473187, 0.8238352511805663, 0.04743773039427445, 0.9157668896481916, 0.997377661562864, 0.9356357498938729, 0.9993588486136417, 0.9990704907155362, 0.9973641483289949, 0.4562442143261616, 0.28989798792282584, 0.20223835824139993, 0.047626098015892813, 0.00414139982746894, 0.8386240250651118, 0.04515047628423621, 0.004146472311817611, 0.1119547524190755, 0.9971864527017086, 0.9938645341923997, 0.983265472691244, 0.9240127616670011, 0.07308575516010178, 0.9982034457613064, 0.8597214335942933, 0.7900723157234419, 0.04976486715537845, 0.15986413077347236, 0.9965738413243094, 0.9994476823967978, 0.992223793839896, 0.19374549619028222, 0.21564716097700976, 0.04211858612832222, 0.4481417564053484, 0.10024223498540688, 0.9961818439156888, 0.5144522246574369, 0.16096752961747085, 0.3238666695903514, 0.9916574250555112, 0.007715412460386129, 0.5030256014129495, 0.07621600021408326, 0.41918800117745797, 0.9985143549926111, 0.2781948886122089, 0.7212001121260829, 0.15387566162051294, 0.8461108149266711, 0.998148490899863, 0.9994127260508346, 0.09313443070792918, 0.8387675675732066, 0.06748063542311036, 0.9910767504480383, 0.9972403456912028, 0.001995278802903567, 0.9758088072300279, 0.732642761037789, 0.02442948790518874, 0.2426017462267753, 0.7186715828305429, 0.2809214132038881, 0.9994327302681065, 0.9987094426322021, 0.9875250458807896, 0.7054466547265072, 0.29439068429968734, 0.9993545319495941, 0.974123430215121, 0.3886255572832901, 0.6109774149822059, 0.9202391482740682, 0.0795927389136246, 0.760268329208474, 0.9994106634961838, 0.9978781510086276, 0.49626984551758535, 0.03905481992293779, 0.22512491739018284, 0.23930405583354242, 0.9917524686820137, 0.9963268024521997, 0.9889154117574345, 0.9810575692663136, 0.9979865115981067, 0.9825938366445166, 0.9990582969479004, 0.7413879969967728, 0.2567350660978224, 0.5623661417681527, 0.43739588804189655, 0.9956572125070604, 0.9376425531261873, 0.06049306794362499, 0.9761502538749959, 0.9861949469920128, 0.736878499503004, 0.26227878795869636, 0.9986462819623866, 0.9909119634473268, 0.6189281373404976, 0.16094291878487632, 0.21981130183035122, 0.9871946236224004, 0.9850405865780345, 0.997519207967521, 0.998791009550854, 0.9952760972352347, 0.09423408183900286, 0.9019547833161703, 0.9946643156453822, 0.9969840736061413, 0.9979052798111611, 0.14431539488441572, 0.8549593848455537, 0.03627072084600647, 0.9591590623721712, 0.9971070457911854, 0.99620183650717, 0.9879892492412771, 0.9898511703207207, 0.984412626818897, 0.9950987302022964, 0.9849204253256586, 0.9996192429841428, 0.8442624328594613, 0.15382747717354592, 0.9971569972599775, 0.9555222317832128, 0.07725779214812632, 0.26637349194630056, 0.655980271981637, 0.2657460349130247, 0.7323466310975215, 0.9979681655928783, 0.9903315386154642, 0.41849487641338784, 0.21157476057299687, 0.3471941821002879, 0.02242692462073767, 0.06487466076281366, 0.09774448888263924, 0.13753428081716496, 0.6150117840314735, 0.08390456125323899, 0.99889153525801, 0.38544572669692534, 0.20206402254137285, 0.01573247864069083, 0.10275275112201199, 0.25368621808113967, 0.04031447651677025, 0.7747408304917757, 0.0807379579448192, 0.14372501733439444, 0.996347249100138, 0.9544708537790818, 0.9997523023557405, 0.9987495004679425, 0.9987413950699108, 0.7152005206195446, 0.9952340270379622, 0.6275743697422406, 0.32840363451328347, 0.017726332544751096, 0.026123016381738456, 0.4596003075308486, 0.5356492792805573, 0.9857960958546382, 0.9979309210413739, 0.9929352297447083, 0.38747423468943537, 0.08634523335697725, 0.5245472926436368, 0.753563929419275, 0.003950531740074836, 0.2419700690795837, 0.9706053329573181, 0.9962820777296671, 0.9840835223994072, 0.4016743842005321, 0.18445187339744715, 0.4133781832739742, 0.12844180746644962, 0.8713836330531485, 0.990637580240298, 0.9964264166227476, 0.9915080398071832, 0.996945092358655, 0.9990889144624417, 0.058153577637289455, 0.9377264394012925, 0.9952640375619177, 0.990909348511698, 0.9973918782498975, 0.9961737703983246, 0.9988939325346522, 0.28103573906206697, 0.7183735466983794, 0.9983349111443672, 0.9961049042502784, 0.9919516284482048, 0.9916924707710808, 0.08333319690744874, 0.13769170127946953, 0.7788496412300929, 0.00012382347237362368, 0.9934708359089466, 0.9320836862732332, 0.17794614118248697, 0.7236476408087803, 0.09787037765036784, 0.9956052256840922, 0.9775892807145361, 0.8063785290856907, 0.19208775118486224, 0.9985386396554986, 0.5892445945716421, 0.4082623262389235, 0.9992300892625536, 0.993192047475758, 0.9975645025827562, 0.986017161930304, 0.9990296835288, 0.9989724707467839, 0.9825530955506234, 0.9866793112549757, 0.6963971383558578, 0.25623161884543777, 0.04704667690419345, 0.7586671083915465, 0.13850325957011883, 0.09922621581142842, 0.8147063804393774, 0.18353275603304656, 0.9975374800715717, 0.9024320380556424, 0.09400333729746276, 0.9724891144032377, 0.10180060638510638, 0.06994214323581051, 0.3639920962114955, 0.46359556720699524, 0.11852492077983834, 0.8791848554048768, 0.00929334077463076, 0.04756003808193389, 0.795947303991905, 0.14650678397653197, 0.9935829207857061, 0.9646783494412334, 0.9834393895878416, 0.9989453906595591, 0.9866340671266891, 0.9993915557569542, 0.9955111381352695, 0.9981297310607733, 0.9923692387632999, 0.99818688107016, 0.917818667509888, 0.9994408592724026, 0.9908309409006663, 0.6578218954077261, 0.3059256845972078, 0.0361697033658026, 0.06944187059168018, 0.9258916078890691, 0.9979402497484868, 0.9929438014794582, 0.9995460608503943, 0.21255232839375082, 0.7834071532226816, 0.304885647526404, 0.3411307944351374, 0.3517911317612354, 0.9970241514344249, 0.20680414928718902, 0.7902872847760437, 0.990869407688071, 0.9245916365739193, 0.2359796439707683, 0.46008609830778724, 0.30276633566060834, 0.9767131208269888, 0.021948609456786266, 0.4904616940254776, 0.32627951164712965, 0.07609713849917081, 0.10736993514266567, 0.990655400513653, 0.2019438603960801, 0.18591656988845467, 0.6116014057709854, 0.9980609592609254, 0.9953011648004051, 0.9996344809971545, 0.9895869604611903, 0.9884328868896903, 0.5528998272263337, 0.09621893097185547, 0.35040924115123484, 0.9974230584665593, 0.9970132339692779, 0.9921518928901814, 0.9454459630326858, 0.9891525634189364, 0.9972498856939858, 0.9905087984759962, 0.9985250773956571, 0.995705245807127, 0.9788472932383493, 0.9996460896065683, 0.997127418125997, 0.9996084958245856, 0.2315912292065628, 0.7681007258908956, 0.9899276904249389, 0.996567981978229, 0.9733247668564947, 0.9961379096170507, 0.9361739630346859, 0.3926808819224018, 0.5979458883818392, 0.9898942281182566, 0.9907287110171534, 0.9911416780914255, 0.9946152601701932, 0.9988950478942566, 0.9978525513814812, 0.9780901101253701, 0.9735458482576544, 0.0640382676230109, 0.9343019045511077, 0.02762380788223393, 0.9549945010715158, 0.016861285330714217, 0.22622753151108074, 0.2924404675631044, 0.3862421269701379, 0.09449137749090873, 0.20922816820423795, 0.601530983587184, 0.18774491879040994, 0.9976929656992221, 0.9936818694656803, 0.9974965304014395, 0.9761108262398448, 0.9842451332273244, 0.7397709171916312, 0.050584735831982794, 0.12362415927718721, 0.0172728366255551, 0.0685978368843474, 0.875382353921232, 0.12319122530348463, 0.32519219149170836, 0.5397168832611077, 0.13280099966677097, 0.9899172733760373, 0.2673617832951595, 0.7299401067740864, 0.9455068113038659, 0.9975454765874575, 0.9855061203227542, 0.18835664204159597, 0.6295389976122111, 0.02792669456137227, 0.15419100507821498, 0.9812231387832469, 0.9861270347200806, 0.9998139163959916, 0.18510748665854726, 0.804505615092917, 0.9331707940068762, 0.06429975435736426, 0.9990230124715269, 0.9974244189864945, 0.5311178979655179, 0.22830910483311334, 0.2405019967619763, 0.9981173435332442, 0.9846974211846266, 0.9924172826938717, 0.9984041604046653, 0.9976215928338878, 0.978164617137396, 0.9974171932558669, 0.8681528074155701, 0.9992396477029485, 0.959944612105311, 0.9972571593034842, 0.9956267825536315, 0.9986121189534807, 0.9905434717186469, 0.996397635941414, 0.9990518309057506, 0.9968550731710668, 0.998814091403619, 0.9171488082149793, 0.0289326378044029, 0.05375462761473763, 0.8792546748061209, 0.12018818433716735, 0.999242936100035, 0.9926023556254245, 0.999024439243167, 0.9832745119171965, 0.995552722224226, 0.9978251152038728, 0.9984532813669542, 0.995300049257735, 0.31458263425876076, 0.6604853550908681, 0.02441124394687309, 0.9714333842374184, 0.9896038770070444, 0.28384834499247324, 0.5847275906844949, 0.08515450349774197, 0.0435234128988459, 0.9848379112756498, 0.9925180182658964, 0.9979435983231363, 0.9833431872416362, 0.9820196544957709, 0.9814973506383087, 0.9921914195641114, 0.9871415347591734, 0.999265776503253, 0.9933691757147437, 0.9045206222161873, 0.09437213554422501, 0.9991571750721523, 0.9992731067260171, 0.833702762405776, 0.14512603641878324, 0.02058525339273521, 0.04604265270832595, 0.9534665998349166, 0.907278457239412, 0.983884089930478, 0.993876421959505, 0.9880211586038745, 0.2332653286348027, 0.7654018595829464, 0.9934588802040447, 0.9154606265647338, 0.8285864857674305, 0.9888680391868865, 0.23028886145539523, 0.7658443532121284, 0.9621458247701737, 0.0018467290302690475, 0.0350878515751119, 0.9945323390205887, 0.30830355787722513, 0.0939065708203866, 0.5299506845929906, 0.06732272540432127, 0.9986780464253285, 0.800352448275452, 0.08343442510979616, 0.11124590014639488, 0.9960371013291205, 0.3883652641468135, 0.6086321303793346, 0.9996097817049943, 0.9966695534404716, 0.92436150827892, 0.07447462388977082, 0.9833523460325116, 0.9695140319191333, 0.9971116028766233, 0.9985832773583243, 0.14929343065298903, 0.6338687409206032, 0.08495148074193652, 0.11410642679538219, 0.01709083044512332, 0.999504511084804, 0.9974815458143746, 0.990058936806053, 0.9469358848404823, 0.7997542066679186, 0.08463599296672146, 0.05872321097911291, 0.056672559167143886, 0.9665164725852771, 0.8624405390412482, 0.13739811115658332, 0.10770097410268321, 0.8860852869357119, 0.996878158191053, 0.9986368508335635, 0.9846358857677315, 0.9994054732345953, 0.10321661210743281, 0.5502299096554125, 0.2902482175051118, 0.055100597440809994, 0.98836390682743, 0.8852920126844765, 0.03631818233854925, 0.07815672839255798, 0.9977258442139046, 0.9601307474109362, 0.9982835193804313, 0.9991910832226336, 0.9997233889011731, 0.9974981908193332, 0.9003140137184599, 0.8621023675067756, 0.1377310654116506, 0.8744396679460019, 0.12540770128974799, 0.9907293772043433, 0.9699983221429113, 0.9964050775726944, 0.0016872622926877522, 0.0016872622926877522, 0.9968810464142064, 0.5442825480760266, 0.07805602433648444, 0.0907137580126711, 0.11708403650472667, 0.08649451345394223, 0.08227526889521333, 0.997187096987229, 0.997166823806352, 0.3829342659729743, 0.615066984726503, 0.9915725703432375, 0.9978159619029712, 0.12115551128362982, 0.8764441241794497, 0.9929674784191637, 0.9797469837820291, 0.18151275612020157, 0.8174556623841935, 0.9982083145660188, 0.9981482672160928, 0.882525809094602, 0.03323318946381346, 0.03323318946381346, 0.05077292834749279, 0.9972366075042842, 0.9888932544480796, 0.9961881432620887, 0.9990512260754971, 0.8859076005783654, 0.9536264100338195, 0.9891851164615044, 0.9976737091593578, 0.984122767471221, 0.015396966375038658, 0.991719561408642, 0.9888049210928626, 0.9889603242639488, 0.9986201355938209, 0.3221032668184062, 0.5962928998970303, 0.006646084680034293, 0.04621347254256404, 0.02859362013503126, 0.9790918045275032, 0.020000902621670785, 0.9941018285504182, 0.9687148217706827, 0.9997428366068829, 0.9993774433460998, 0.9976021255813443, 0.1577733178450925, 0.8414576951738267, 0.9299813400210223, 0.06736613947148748, 0.9925306079342125, 0.9964691696693627, 0.9049006652873471, 0.9875244290386909, 0.9874502152185378, 0.05451261478403054, 0.9418568443240833, 0.8944380098407664, 0.10519124242421682, 0.9985194536886258, 0.988316877738792, 0.997056271355172, 0.8806280644329784, 0.11425360187254964, 0.004837350079281336, 0.9974137112876397, 0.9703380667323502, 0.9861305003697804, 0.001610797942453088, 0.01208098456839816, 0.849019542192523, 0.14982697803397463, 0.9159502623797677, 0.9970852980839996, 0.8827687064770767, 0.9995339155364147, 0.9996581563168212, 0.9991556257606043, 0.9651922775749886, 0.9988904828460551, 0.9982364651790393, 0.4528068779331342, 0.46599542777584685, 0.07913129905627588, 0.9689838608483827, 0.029162304977653104, 0.10294695893435661, 0.03841304437849127, 0.8258804541375624, 0.031498696390362846, 0.7222612206763536, 0.26526241681758095, 0.008733754918189878, 0.003655990430870181, 0.8465879614111311, 0.9920466402301364, 0.5335522419906349, 0.00452039341396821, 0.4618821335078808, 0.5994759081176179, 0.034943272829194474, 0.10922388273556596, 0.25611117331098227, 0.872400426287425, 0.126638771557852, 0.9970714118138271], \"Term\": [\"ab\", \"absurd\", \"abuse\", \"accept\", \"accept\", \"account\", \"actually\", \"actually\", \"adam\", \"added_forwarde\", \"advance\", \"advance\", \"afford\", \"age\", \"age\", \"agree\", \"agree\", \"aim\", \"air\", \"alive\", \"alive\", \"also\", \"also\", \"also\", \"also\", \"ammunition\", \"analogy\", \"anti\", \"app\", \"appeal\", \"appear\", \"appear\", \"appear\", \"application\", \"appoint\", \"appreciate\", \"appreciated\", \"approve\", \"arab\", \"arbitrary\", \"area\", \"area\", \"area\", \"argument\", \"arm\", \"armenian\", \"article\", \"article\", \"assembler\", \"association\", \"astronomy\", \"atf\", \"atheist\", \"atmosphere\", \"atrocity\", \"attack\", \"attack\", \"authority\", \"automatically\", \"available\", \"average\", \"ax\", \"baby\", \"baby_bike\", \"back\", \"bad\", \"bad\", \"ban\", \"bank\", \"baseball\", \"battery\", \"bear\", \"beauty\", \"become\", \"become\", \"become\", \"bee\", \"begin\", \"begin\", \"begin\", \"belief\", \"believe\", \"believe\", \"bike\", \"biological\", \"bit\", \"bit\", \"bit\", \"blank\", \"block\", \"block\", \"body\", \"bomb\", \"book\", \"book\", \"bounce\", \"boy\", \"brave\", \"bring\", \"bring\", \"bring\", \"british\", \"brother\", \"buy\", \"buy\", \"cable\", \"call\", \"call\", \"call\", \"call\", \"camera\", \"captain\", \"capture\", \"car\", \"card\", \"care\", \"carry\", \"carry\", \"carry\", \"carry\", \"carry\", \"cash\", \"caution\", \"chamber\", \"character\", \"cheap\", \"chief\", \"child\", \"child\", \"child\", \"chip\", \"chip\", \"christian\", \"church\", \"circuit\", \"citizen\", \"citizen\", \"city\", \"city\", \"civil\", \"civilian\", \"claim\", \"clearly\", \"clinton_gore\", \"clipper\", \"clipper_chip\", \"close\", \"close\", \"close\", \"close\", \"club\", \"cock\", \"code\", \"color\", \"com\", \"com\", \"come\", \"come\", \"come\", \"commit\", \"commit\", \"commit\", \"communication\", \"community\", \"competition\", \"compound\", \"computer\", \"computer\", \"concerned\", \"conclusion\", \"cone\", \"conservative\", \"consideration\", \"constitution\", \"consult\", \"context\", \"control\", \"control\", \"control\", \"control\", \"convert\", \"cool\", \"cop\", \"copy\", \"cord\", \"corinthian\", \"corporation\", \"cost\", \"country\", \"couple\", \"court\", \"court\", \"cpu\", \"creature\", \"credibility\", \"crew\", \"crime\", \"crime\", \"criminal\", \"criminal\", \"cross\", \"crypto\", \"cryptography\", \"cubic\", \"cult\", \"cycle\", \"d\", \"d\", \"danger\", \"datum\", \"datum\", \"daughter\", \"day\", \"day\", \"dead\", \"death\", \"death\", \"decent\", \"defense\", \"defense\", \"define\", \"democracy\", \"democracy\", \"deny\", \"dept\", \"deserve\", \"destroy\", \"destroy\", \"detailed\", \"detailed\", \"developer\", \"device\", \"devil\", \"diameter\", \"die\", \"die\", \"direct\", \"dirty\", \"disagree\", \"discussion\", \"disease\", \"disk\", \"display\", \"distribution_usa\", \"division\", \"division\", \"division\", \"do\", \"do\", \"dock\", \"doctor\", \"dream\", \"drive\", \"driver\", \"driver\", \"drug\", \"dual\", \"duty\", \"earth\", \"earth\", \"eat\", \"else\", \"email\", \"email\", \"encryption\", \"end\", \"end\", \"end\", \"end\", \"end\", \"engine\", \"enough\", \"entitle\", \"entry\", \"environment\", \"environment\", \"environment\", \"escape\", \"esdi\", \"ethnic\", \"eve\", \"even\", \"even\", \"even\", \"evidence\", \"evolution\", \"example\", \"example\", \"example\", \"exist\", \"exist\", \"expansion\", \"expensive\", \"experience\", \"explain\", \"explain\", \"export\", \"extermination_ohanus\", \"face\", \"face\", \"fact\", \"fact\", \"fact\", \"fact\", \"faith\", \"family\", \"fan\", \"faq\", \"fascist\", \"fasst\", \"father\", \"fed\", \"field\", \"file\", \"fill\", \"final\", \"final\", \"final\", \"finish\", \"fire\", \"firearm\", \"first\", \"first\", \"first\", \"first\", \"first\", \"flight\", \"floor\", \"follow\", \"follow\", \"follow\", \"follow\", \"follower\", \"force\", \"force\", \"force\", \"force\", \"format\", \"frame\", \"frequently_aske\", \"front\", \"front\", \"ftp_site\", \"fuel\", \"function\", \"game\", \"gateway\", \"genesis\", \"genocide\", \"get\", \"get\", \"get\", \"giant\", \"give\", \"give\", \"give\", \"go\", \"go\", \"goal\", \"goal\", \"goal\", \"god\", \"golden\", \"good\", \"good\", \"government\", \"government\", \"graphic\", \"great\", \"great\", \"great\", \"greatly_appreciate\", \"greek\", \"greek\", \"grip\", \"ground\", \"ground\", \"group\", \"group\", \"group\", \"grow\", \"guess\", \"guilty\", \"gun\", \"gun_control\", \"handgun\", \"hard\", \"hardware\", \"hassle\", \"headache\", \"health\", \"hear\", \"heart\", \"helmet\", \"help\", \"help\", \"help\", \"help\", \"herein\", \"hide\", \"high\", \"high\", \"high\", \"hit\", \"hit\", \"hitter\", \"hole\", \"hole\", \"host\", \"hot\", \"however\", \"however\", \"however\", \"human\", \"human_being\", \"ide\", \"ill\", \"image\", \"immediate\", \"impact\", \"impedance\", \"implementation\", \"in\", \"include\", \"include\", \"include\", \"include\", \"include\", \"increase\", \"increase\", \"increase\", \"indeed\", \"indeed\", \"industry\", \"industry\", \"infinity\", \"info\", \"info\", \"information\", \"information\", \"information\", \"information\", \"inhabitant\", \"ini_file\", \"input\", \"insert\", \"instal\", \"instal\", \"insurance\", \"intel\", \"intelligence\", \"intentionally\", \"interested\", \"interested\", \"interested\", \"interested\", \"interface\", \"international\", \"internet\", \"invasion\", \"investigation\", \"islamic\", \"islamic_law\", \"israeli\", \"issue\", \"issue\", \"issue\", \"issue\", \"ist\", \"ists_ca\", \"jewish\", \"jewish\", \"job\", \"job\", \"job\", \"jubilees_re\", \"justify\", \"keen\", \"key\", \"keyword\", \"kid\", \"kill\", \"kill\", \"kill\", \"kill\", \"kill\", \"know\", \"know\", \"know\", \"know\", \"knowledge\", \"koresh\", \"kurd\", \"laboratory\", \"laboratory\", \"land\", \"las_cruce\", \"last\", \"last\", \"last\", \"launch\", \"law\", \"lawyer\", \"lead\", \"lead\", \"lead\", \"lead\", \"lead\", \"leafs\", \"less\", \"less\", \"less\", \"let\", \"let\", \"license\", \"license\", \"license\", \"lie\", \"life\", \"life\", \"line\", \"line\", \"listen\", \"little\", \"live\", \"live\", \"live\", \"locate\", \"long\", \"long\", \"longer_exist\", \"look\", \"look\", \"look\", \"lose\", \"lose\", \"lot\", \"low\", \"lunar\", \"m\", \"m\", \"machine\", \"mad\", \"mail\", \"mail\", \"make\", \"make\", \"malfunction\", \"man\", \"manual\", \"many\", \"many\", \"many\", \"many\", \"mar\", \"market\", \"massacre\", \"massive\", \"master\", \"maximum\", \"maybe\", \"mb\", \"mb\", \"mean\", \"mean\", \"medical\", \"meet\", \"meet\", \"meg\", \"melkonian\", \"member\", \"member\", \"memory\", \"mercy\", \"message\", \"message\", \"message\", \"micro\", \"might_serve\", \"mile\", \"military\", \"militia\", \"mine\", \"mine\", \"minority\", \"mission\", \"mode\", \"model\", \"model\", \"monitor\", \"monitor\", \"moon\", \"moral\", \"moslem\", \"mother\", \"motor\", \"mount\", \"mountain_passe\", \"much\", \"murder\", \"murder\", \"muslim\", \"n\", \"name\", \"name\", \"name\", \"national\", \"national\", \"nature\", \"nazi\", \"need\", \"need\", \"need\", \"need\", \"net\", \"net\", \"net\", \"net\", \"net\", \"network\", \"new\", \"new\", \"new\", \"new\", \"new\", \"new\", \"next\", \"next\", \"next\", \"nhl\", \"nm\", \"nntp_poste\", \"normal\", \"notice\", \"ns_simms\", \"nsa\", \"number\", \"number\", \"number\", \"number\", \"objective\", \"objective\", \"observe\", \"occupy\", \"offense\", \"offer\", \"offer\", \"offer\", \"old\", \"old\", \"old\", \"optimize\", \"orbit\", \"orbital\", \"order\", \"order\", \"order\", \"organization\", \"organization\", \"origin\", \"owner\", \"ozone\", \"pack\", \"package\", \"packet\", \"packet\", \"parent\", \"park\", \"partner\", \"past\", \"patient\", \"pay\", \"pay\", \"pc\", \"pen\", \"penalty\", \"penguin\", \"people\", \"people\", \"people\", \"people\", \"percent\", \"persistent\", \"person\", \"person\", \"person\", \"pgp\", \"phase\", \"phone\", \"phone\", \"physical\", \"pick\", \"pick\", \"pin\", \"pitch\", \"plane\", \"planetary\", \"play\", \"player\", \"please_respond\", \"plot\", \"point\", \"point\", \"point\", \"police\", \"police\", \"police\", \"policy\", \"policy\", \"political\", \"population\", \"population\", \"positively\", \"post\", \"post\", \"post\", \"post\", \"posting\", \"posting\", \"power\", \"power\", \"power\", \"power\", \"predict\", \"preliminary\", \"press_release\", \"pretty\", \"prevention\", \"price\", \"principle\", \"printer\", \"privacy\", \"private\", \"privately\", \"probably\", \"probe\", \"problem\", \"problem\", \"problem\", \"proceed\", \"proceed\", \"processor\", \"production\", \"program\", \"prohibit\", \"prohibit\", \"project\", \"project\", \"project\", \"proof\", \"property\", \"property\", \"proposal\", \"propulsion\", \"protect\", \"protect\", \"protect\", \"prove\", \"prove\", \"provide\", \"provide\", \"provide\", \"provide\", \"pt\", \"public\", \"public\", \"public\", \"purchase\", \"purdue_university\", \"put\", \"quadra\", \"qualified\", \"question\", \"question\", \"question\", \"quick\", \"quote\", \"quran\", \"radar\", \"radiation\", \"radio\", \"rain\", \"rate\", \"rational\", \"rd\", \"re\", \"reality\", \"really\", \"reason\", \"reason\", \"rebel\", \"recommend\", \"redesign\", \"refer\", \"reflection\", \"region\", \"region\", \"regularly\", \"regulation\", \"relation\", \"relationship\", \"religion\", \"religious\", \"remainder\", \"remind\", \"replace\", \"replace\", \"reply\", \"reply\", \"reply\", \"report\", \"report\", \"report\", \"report\", \"research\", \"research\", \"research\", \"respect\", \"restore\", \"revelation\", \"revolver\", \"rifle\", \"right\", \"right\", \"right\", \"right\", \"right\", \"risk\", \"risk\", \"road\", \"road\", \"road\", \"rob\", \"rocket\", \"rocket\", \"rod\", \"route\", \"ruler\", \"run\", \"run\", \"run\", \"run\", \"rushdie\", \"rutger\", \"s\", \"sad\", \"sad\", \"safety\", \"safety\", \"sale\", \"satellite\", \"say\", \"say\", \"say\", \"scan\", \"scare\", \"scheme\", \"science\", \"scientific\", \"scope\", \"score\", \"scott_roby\", \"screen\", \"script\", \"scripture\", \"scsi\", \"season\", \"seattle_wa\", \"secret\", \"section\", \"secure\", \"security\", \"see\", \"see\", \"see\", \"seem\", \"seem\", \"sell\", \"semi\", \"sense\", \"serdar_argic\", \"serial\", \"serious\", \"server\", \"session\", \"set\", \"set\", \"set\", \"shareware\", \"sheet\", \"shoot\", \"shoot\", \"shoot\", \"shoot\", \"shotgun\", \"shuttle\", \"signal\", \"significance\", \"simm\", \"simms\", \"sky\", \"slaughter\", \"software\", \"solar\", \"soldier\", \"soldier\", \"soon\", \"sound\", \"source\", \"source\", \"source\", \"space\", \"space\", \"space_dig\", \"space_station\", \"spec\", \"specification\", \"speed\", \"speed\", \"spring\", \"ssf\", \"stall\", \"stamp\", \"star\", \"star\", \"start\", \"start\", \"start\", \"stat\", \"state\", \"state\", \"state\", \"state\", \"statement\", \"station\", \"station\", \"station\", \"statistic\", \"step\", \"step\", \"still\", \"student\", \"study\", \"study\", \"stuff_delete\", \"suck\", \"suffer\", \"suggest\", \"support\", \"support\", \"support\", \"support\", \"support\", \"sure\", \"surface\", \"survivor\", \"synchronous\", \"system\", \"system\", \"system\", \"system\", \"tail\", \"take\", \"take\", \"tank\", \"tank\", \"tap\", \"tape\", \"tavare\", \"team\", \"technology\", \"technology\", \"technology\", \"technology\", \"television\", \"tell\", \"tell\", \"tell\", \"telnet\", \"territorial\", \"terrorism\", \"test\", \"thank\", \"therefore\", \"thesis\", \"thing\", \"thing\", \"think\", \"think\", \"threat\", \"tiff\", \"time\", \"time\", \"time\", \"tm\", \"today\", \"today\", \"today\", \"today\", \"today\", \"today\", \"topic\", \"trace\", \"trade\", \"trade\", \"translate\", \"treatment\", \"trial\", \"trial\", \"trigger\", \"trivial\", \"true\", \"true\", \"trust\", \"truth\", \"try\", \"try\", \"try\", \"try\", \"turk\", \"turkey\", \"turkish\", \"turn\", \"txt\", \"ultimate\", \"unable\", \"united_state\", \"university\", \"university\", \"unknown\", \"unusual\", \"upset\", \"usa\", \"use\", \"use\", \"use\", \"use\", \"use\", \"user\", \"user\", \"utility\", \"utilize\", \"ve\", \"version\", \"version_pl\", \"view\", \"view\", \"village\", \"village\", \"violate\", \"violence\", \"visualization\", \"voltage\", \"volunteer\", \"vote\", \"vote\", \"want\", \"want\", \"war\", \"warrant\", \"warranty\", \"way\", \"way\", \"way\", \"weapon\", \"weeks_ago\", \"well\", \"well\", \"well\", \"wide\", \"wide\", \"wide_glide\", \"wife\", \"wild_corn\", \"win\", \"window\", \"wing\", \"winter\", \"wire\", \"withdraw\", \"witness\", \"witness\", \"witness\", \"woman\", \"woman\", \"word\", \"word\", \"word\", \"word\", \"work\", \"work\", \"work\", \"work\", \"workshop\", \"workstation\", \"write\", \"write\", \"write\", \"year\", \"year\", \"year\", \"year\", \"young\", \"young\", \"zone\"]}, \"R\": 30, \"lambda.step\": 0.01, \"plot.opts\": {\"xlab\": \"PC1\", \"ylab\": \"PC2\"}, \"topic.order\": [9, 20, 3, 8, 10, 19, 18, 7, 4, 2, 13, 14, 12, 15, 17, 1, 11, 16, 6, 5]};\n",
       "\n",
       "function LDAvis_load_lib(url, callback){\n",
       "  var s = document.createElement('script');\n",
       "  s.src = url;\n",
       "  s.async = true;\n",
       "  s.onreadystatechange = s.onload = callback;\n",
       "  s.onerror = function(){console.warn(\"failed to load library \" + url);};\n",
       "  document.getElementsByTagName(\"head\")[0].appendChild(s);\n",
       "}\n",
       "\n",
       "if(typeof(LDAvis) !== \"undefined\"){\n",
       "   // already loaded: just create the visualization\n",
       "   !function(LDAvis){\n",
       "       new LDAvis(\"#\" + \"ldavis_el2146013538158615045532122919\", ldavis_el2146013538158615045532122919_data);\n",
       "   }(LDAvis);\n",
       "}else if(typeof define === \"function\" && define.amd){\n",
       "   // require.js is available: use it to load d3/LDAvis\n",
       "   require.config({paths: {d3: \"https://d3js.org/d3.v5\"}});\n",
       "   require([\"d3\"], function(d3){\n",
       "      window.d3 = d3;\n",
       "      LDAvis_load_lib(\"https://cdn.jsdelivr.net/gh/bmabey/pyLDAvis@3.3.1/pyLDAvis/js/ldavis.v3.0.0.js\", function(){\n",
       "        new LDAvis(\"#\" + \"ldavis_el2146013538158615045532122919\", ldavis_el2146013538158615045532122919_data);\n",
       "      });\n",
       "    });\n",
       "}else{\n",
       "    // require.js not available: dynamically load d3 & LDAvis\n",
       "    LDAvis_load_lib(\"https://d3js.org/d3.v5.js\", function(){\n",
       "         LDAvis_load_lib(\"https://cdn.jsdelivr.net/gh/bmabey/pyLDAvis@3.3.1/pyLDAvis/js/ldavis.v3.0.0.js\", function(){\n",
       "                 new LDAvis(\"#\" + \"ldavis_el2146013538158615045532122919\", ldavis_el2146013538158615045532122919_data);\n",
       "            })\n",
       "         });\n",
       "}\n",
       "</script>"
      ],
      "text/plain": [
       "PreparedData(topic_coordinates=              x         y  topics  cluster       Freq\n",
       "topic                                                \n",
       "8      0.342879  0.067864       1        1  38.238650\n",
       "19     0.277901 -0.109240       2        1  12.383473\n",
       "2      0.267872  0.233674       3        1   8.639914\n",
       "7      0.242783  0.140196       4        1   8.520696\n",
       "9      0.210067 -0.280205       5        1   8.307042\n",
       "18     0.135008 -0.178411       6        1   5.532286\n",
       "17    -0.039034 -0.077470       7        1   4.338414\n",
       "6      0.091617  0.117198       8        1   3.736649\n",
       "3      0.040249  0.023355       9        1   2.395862\n",
       "1      0.040385 -0.076403      10        1   2.011413\n",
       "12    -0.046444  0.077522      11        1   1.435547\n",
       "13    -0.091993 -0.037851      12        1   1.085359\n",
       "11    -0.111067  0.012405      13        1   1.060056\n",
       "14    -0.151894  0.024894      14        1   0.750341\n",
       "16    -0.172569  0.003155      15        1   0.523672\n",
       "0     -0.192890  0.008612      16        1   0.329667\n",
       "10    -0.199758  0.009578      17        1   0.264179\n",
       "15    -0.210770  0.014152      18        1   0.196062\n",
       "5     -0.216500  0.013537      19        1   0.136802\n",
       "4     -0.215842  0.013437      20        1   0.113917, topic_info=               Term          Freq         Total Category  logprob  loglift\n",
       "4383             ax  43299.000000  43299.000000  Default  30.0000  30.0000\n",
       "18             line  17046.000000  17046.000000  Default  29.0000  29.0000\n",
       "26     organization   9996.000000   9996.000000  Default  28.0000  28.0000\n",
       "213           write  13715.000000  13715.000000  Default  27.0000  27.0000\n",
       "47          article   9744.000000   9744.000000  Default  26.0000  26.0000\n",
       "...             ...           ...           ...      ...      ...      ...\n",
       "6941         closed      0.020936      1.219152  Topic20 -11.1554   2.7130\n",
       "19403         mbyte      0.020935      1.219146  Topic20 -11.1555   2.7130\n",
       "4867          laugh      0.020936      1.219181  Topic20 -11.1554   2.7130\n",
       "4381              _      0.020936      1.219406  Topic20 -11.1554   2.7128\n",
       "4893             os      0.020936      1.219182  Topic20 -11.1554   2.7130\n",
       "\n",
       "[890 rows x 6 columns], token_table=      Topic      Freq    Term\n",
       "term                         \n",
       "950      18  0.878572      ab\n",
       "371      20  0.902238  absurd\n",
       "2098     13  0.995279   abuse\n",
       "1351      3  0.860165  accept\n",
       "1351      4  0.138571  accept\n",
       "...     ...       ...     ...\n",
       "42        8  0.109224    year\n",
       "42        9  0.256111    year\n",
       "628       4  0.872400   young\n",
       "628       9  0.126639   young\n",
       "2612      8  0.997071    zone\n",
       "\n",
       "[1105 rows x 3 columns], R=30, lambda_step=0.01, plot_opts={'xlab': 'PC1', 'ylab': 'PC2'}, topic_order=[9, 20, 3, 8, 10, 19, 18, 7, 4, 2, 13, 14, 12, 15, 17, 1, 11, 16, 6, 5])"
      ]
     },
     "execution_count": 32,
     "metadata": {},
     "output_type": "execute_result"
    }
   ],
   "source": [
    "# Visualize the topics\n",
    "pyLDAvis.enable_notebook()\n",
    "vis = pyLDAvis.gensim_models.prepare(lda_model, corpus, id2word)\n",
    "vis"
   ]
  },
  {
   "cell_type": "markdown",
   "metadata": {},
   "source": [
    "    >Each bubble represents a topic. The larger the bubble, the higher percentage of the number of posts in the corpus is about that topic\n",
    "\n",
    "\n",
    "    >Red bars give the estimated number of times a given term was generated by a given topic. As you can see from the image above, there are total about 35,000 of the word ‘get’, and this term is used about 32,000 times within topic 1. The word with the longest red bar is the word that is used the most by the posts belonging to that topic"
   ]
  },
  {
   "cell_type": "code",
   "execution_count": null,
   "metadata": {},
   "outputs": [],
   "source": []
  }
 ],
 "metadata": {
  "kernelspec": {
   "display_name": "Python 3.8.12 ('ml')",
   "language": "python",
   "name": "python3"
  },
  "language_info": {
   "codemirror_mode": {
    "name": "ipython",
    "version": 3
   },
   "file_extension": ".py",
   "mimetype": "text/x-python",
   "name": "python",
   "nbconvert_exporter": "python",
   "pygments_lexer": "ipython3",
   "version": "3.8.12"
  },
  "orig_nbformat": 4,
  "vscode": {
   "interpreter": {
    "hash": "971771efcf3df54554cd3d92507525f32ae60c9f03747983ffc2c7ef42adf4ae"
   }
  }
 },
 "nbformat": 4,
 "nbformat_minor": 2
}
